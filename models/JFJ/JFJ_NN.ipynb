{
 "cells": [
  {
   "cell_type": "markdown",
   "metadata": {},
   "source": [
    "# Neural Network Final Model - Jungfraujoch, Switzerland"
   ]
  },
  {
   "cell_type": "code",
   "execution_count": 1,
   "metadata": {},
   "outputs": [],
   "source": [
    "import pandas as pd\n",
    "import numpy as np\n",
    "from joblib import dump\n",
    "from pathlib import Path\n",
    "import matplotlib.pyplot as plt\n",
    "import seaborn as sns\n",
    "\n",
    "from sklearn.neural_network import MLPClassifier\n",
    "from sklearn.metrics import precision_score, recall_score, f1_score, accuracy_score\n",
    "\n",
    "import sys\n",
    "sys.path.append('../../')\n",
    "import config as cfg\n",
    "import functions as f\n",
    "\n",
    "data_path = Path.home()/'OneDrive'/'Kirstin'/'Uni'/'Year4'/'MSciProject'/'data_files'/'saved_files'"
   ]
  },
  {
   "cell_type": "code",
   "execution_count": 2,
   "metadata": {},
   "outputs": [
    {
     "name": "stdout",
     "output_type": "stream",
     "text": [
      "Creating a neural network model for \u001b[1mJungfraujoch, Switzerland\u001b[0;0m.\n"
     ]
    }
   ],
   "source": [
    "site = cfg.site\n",
    "site_name = cfg.site_dict[site]\n",
    "assert site == 'JFJ', 'This script is only for Jungfraujoch, Switzerland. The site can be changed in the config file.'\n",
    "\n",
    "compound = cfg.compound\n",
    "\n",
    "print(f\"Creating a neural network model for \\033[1m{site_name}\\033[0;0m.\")"
   ]
  },
  {
   "cell_type": "markdown",
   "metadata": {},
   "source": [
    "### Loading & Initialising Data"
   ]
  },
  {
   "cell_type": "code",
   "execution_count": 3,
   "metadata": {},
   "outputs": [
    {
     "data": {
      "text/html": [
       "<div>\n",
       "<style scoped>\n",
       "    .dataframe tbody tr th:only-of-type {\n",
       "        vertical-align: middle;\n",
       "    }\n",
       "\n",
       "    .dataframe tbody tr th {\n",
       "        vertical-align: top;\n",
       "    }\n",
       "\n",
       "    .dataframe thead th {\n",
       "        text-align: right;\n",
       "    }\n",
       "</style>\n",
       "<table border=\"1\" class=\"dataframe\">\n",
       "  <thead>\n",
       "    <tr style=\"text-align: right;\">\n",
       "      <th></th>\n",
       "      <th>time</th>\n",
       "      <th>flag</th>\n",
       "      <th>u10_0</th>\n",
       "      <th>u10_1</th>\n",
       "      <th>u10_2</th>\n",
       "      <th>u10_3</th>\n",
       "      <th>u10_4</th>\n",
       "      <th>u10_5</th>\n",
       "      <th>u10_6</th>\n",
       "      <th>u10_7</th>\n",
       "      <th>...</th>\n",
       "      <th>v500_7_past</th>\n",
       "      <th>v500_8_past</th>\n",
       "      <th>v500_9_past</th>\n",
       "      <th>v500_10_past</th>\n",
       "      <th>v500_11_past</th>\n",
       "      <th>v500_12_past</th>\n",
       "      <th>v500_13_past</th>\n",
       "      <th>v500_14_past</th>\n",
       "      <th>v500_15_past</th>\n",
       "      <th>v500_16_past</th>\n",
       "    </tr>\n",
       "  </thead>\n",
       "  <tbody>\n",
       "    <tr>\n",
       "      <th>21218</th>\n",
       "      <td>2022-07-08 17:00:00</td>\n",
       "      <td>1.0</td>\n",
       "      <td>0.246809</td>\n",
       "      <td>3.014073</td>\n",
       "      <td>3.205176</td>\n",
       "      <td>-0.331627</td>\n",
       "      <td>-0.920317</td>\n",
       "      <td>0.597320</td>\n",
       "      <td>0.527404</td>\n",
       "      <td>-1.272693</td>\n",
       "      <td>...</td>\n",
       "      <td>-8.989162</td>\n",
       "      <td>-9.598480</td>\n",
       "      <td>-12.750088</td>\n",
       "      <td>-5.525117</td>\n",
       "      <td>-0.725756</td>\n",
       "      <td>-3.789206</td>\n",
       "      <td>0.693828</td>\n",
       "      <td>-4.678552</td>\n",
       "      <td>0.149330</td>\n",
       "      <td>-3.628449</td>\n",
       "    </tr>\n",
       "    <tr>\n",
       "      <th>14265</th>\n",
       "      <td>2017-04-20 15:00:00</td>\n",
       "      <td>1.0</td>\n",
       "      <td>-0.024268</td>\n",
       "      <td>2.064610</td>\n",
       "      <td>1.468165</td>\n",
       "      <td>-0.152644</td>\n",
       "      <td>0.260483</td>\n",
       "      <td>-3.770407</td>\n",
       "      <td>-6.630067</td>\n",
       "      <td>-2.530499</td>\n",
       "      <td>...</td>\n",
       "      <td>-26.862118</td>\n",
       "      <td>-26.241184</td>\n",
       "      <td>-18.854067</td>\n",
       "      <td>-9.919285</td>\n",
       "      <td>3.516937</td>\n",
       "      <td>-2.277116</td>\n",
       "      <td>-10.378643</td>\n",
       "      <td>1.837076</td>\n",
       "      <td>-21.699682</td>\n",
       "      <td>-21.089430</td>\n",
       "    </tr>\n",
       "    <tr>\n",
       "      <th>20438</th>\n",
       "      <td>2022-01-10 19:00:00</td>\n",
       "      <td>1.0</td>\n",
       "      <td>-0.686840</td>\n",
       "      <td>0.287516</td>\n",
       "      <td>-0.236624</td>\n",
       "      <td>0.580793</td>\n",
       "      <td>0.756516</td>\n",
       "      <td>-2.944583</td>\n",
       "      <td>-0.574740</td>\n",
       "      <td>-1.968409</td>\n",
       "      <td>...</td>\n",
       "      <td>-42.893932</td>\n",
       "      <td>-32.811108</td>\n",
       "      <td>-4.869787</td>\n",
       "      <td>-9.183024</td>\n",
       "      <td>7.599698</td>\n",
       "      <td>-0.329893</td>\n",
       "      <td>-33.550278</td>\n",
       "      <td>-12.457702</td>\n",
       "      <td>-20.627480</td>\n",
       "      <td>2.415356</td>\n",
       "    </tr>\n",
       "    <tr>\n",
       "      <th>6577</th>\n",
       "      <td>2009-10-04 03:00:00</td>\n",
       "      <td>1.0</td>\n",
       "      <td>-0.100633</td>\n",
       "      <td>6.713636</td>\n",
       "      <td>6.069035</td>\n",
       "      <td>0.336559</td>\n",
       "      <td>-0.983483</td>\n",
       "      <td>5.381501</td>\n",
       "      <td>1.969226</td>\n",
       "      <td>1.864615</td>\n",
       "      <td>...</td>\n",
       "      <td>-3.384145</td>\n",
       "      <td>-3.541555</td>\n",
       "      <td>13.618794</td>\n",
       "      <td>-2.983836</td>\n",
       "      <td>-4.586428</td>\n",
       "      <td>5.562413</td>\n",
       "      <td>-3.960861</td>\n",
       "      <td>-7.810608</td>\n",
       "      <td>-3.137175</td>\n",
       "      <td>-6.737238</td>\n",
       "    </tr>\n",
       "    <tr>\n",
       "      <th>15371</th>\n",
       "      <td>2018-02-25 17:00:00</td>\n",
       "      <td>1.0</td>\n",
       "      <td>-0.297080</td>\n",
       "      <td>-4.349038</td>\n",
       "      <td>-2.814002</td>\n",
       "      <td>-1.749813</td>\n",
       "      <td>-1.079272</td>\n",
       "      <td>0.154626</td>\n",
       "      <td>1.738788</td>\n",
       "      <td>-2.191949</td>\n",
       "      <td>...</td>\n",
       "      <td>-17.920717</td>\n",
       "      <td>-29.585468</td>\n",
       "      <td>-26.088917</td>\n",
       "      <td>-9.397690</td>\n",
       "      <td>-1.653272</td>\n",
       "      <td>1.468343</td>\n",
       "      <td>-1.444972</td>\n",
       "      <td>-4.066668</td>\n",
       "      <td>-10.348684</td>\n",
       "      <td>-10.123146</td>\n",
       "    </tr>\n",
       "  </tbody>\n",
       "</table>\n",
       "<p>5 rows × 210 columns</p>\n",
       "</div>"
      ],
      "text/plain": [
       "                     time  flag     u10_0     u10_1     u10_2     u10_3  \\\n",
       "21218 2022-07-08 17:00:00   1.0  0.246809  3.014073  3.205176 -0.331627   \n",
       "14265 2017-04-20 15:00:00   1.0 -0.024268  2.064610  1.468165 -0.152644   \n",
       "20438 2022-01-10 19:00:00   1.0 -0.686840  0.287516 -0.236624  0.580793   \n",
       "6577  2009-10-04 03:00:00   1.0 -0.100633  6.713636  6.069035  0.336559   \n",
       "15371 2018-02-25 17:00:00   1.0 -0.297080 -4.349038 -2.814002 -1.749813   \n",
       "\n",
       "          u10_4     u10_5     u10_6     u10_7  ...  v500_7_past  v500_8_past  \\\n",
       "21218 -0.920317  0.597320  0.527404 -1.272693  ...    -8.989162    -9.598480   \n",
       "14265  0.260483 -3.770407 -6.630067 -2.530499  ...   -26.862118   -26.241184   \n",
       "20438  0.756516 -2.944583 -0.574740 -1.968409  ...   -42.893932   -32.811108   \n",
       "6577  -0.983483  5.381501  1.969226  1.864615  ...    -3.384145    -3.541555   \n",
       "15371 -1.079272  0.154626  1.738788 -2.191949  ...   -17.920717   -29.585468   \n",
       "\n",
       "       v500_9_past  v500_10_past  v500_11_past  v500_12_past  v500_13_past  \\\n",
       "21218   -12.750088     -5.525117     -0.725756     -3.789206      0.693828   \n",
       "14265   -18.854067     -9.919285      3.516937     -2.277116    -10.378643   \n",
       "20438    -4.869787     -9.183024      7.599698     -0.329893    -33.550278   \n",
       "6577     13.618794     -2.983836     -4.586428      5.562413     -3.960861   \n",
       "15371   -26.088917     -9.397690     -1.653272      1.468343     -1.444972   \n",
       "\n",
       "       v500_14_past  v500_15_past  v500_16_past  \n",
       "21218     -4.678552      0.149330     -3.628449  \n",
       "14265      1.837076    -21.699682    -21.089430  \n",
       "20438    -12.457702    -20.627480      2.415356  \n",
       "6577      -7.810608     -3.137175     -6.737238  \n",
       "15371     -4.066668    -10.348684    -10.123146  \n",
       "\n",
       "[5 rows x 210 columns]"
      ]
     },
     "execution_count": 3,
     "metadata": {},
     "output_type": "execute_result"
    }
   ],
   "source": [
    "data = pd.read_csv(data_path/f'for_model_{compound}_{site}.csv', parse_dates=['time'])\n",
    "data.sample(5)"
   ]
  },
  {
   "cell_type": "code",
   "execution_count": 4,
   "metadata": {},
   "outputs": [
    {
     "name": "stdout",
     "output_type": "stream",
     "text": [
      "Train range: 2018-01-01 07:00:00 -> 2018-12-31 21:00:00. Length: 1082\n",
      "Val range: 2019-01-01 03:00:00 -> 2019-12-31 23:00:00. Length: 1380\n",
      "Test range: 2020-01-01 01:00:00 -> 2022-12-31 23:00:00. Length: 4206\n"
     ]
    }
   ],
   "source": [
    "train_data = data[(data['time'].dt.year >= 2018) & (data['time'].dt.year <= 2018)]\n",
    "val_data = data[(data['time'].dt.year >= 2019) & (data['time'].dt.year <= 2019)]\n",
    "test_data = data[(data['time'].dt.year >= 2020) & (data['time'].dt.year <= 2023)]\n",
    "\n",
    "\n",
    "print(f\"Train range: {train_data['time'].min()} -> {train_data['time'].max()}. Length: {len(train_data)}\")\n",
    "print(f\"Val range: {val_data['time'].min()} -> {val_data['time'].max()}. Length: {len(val_data)}\")\n",
    "print(f\"Test range: {test_data['time'].min()} -> {test_data['time'].max()}. Length: {len(test_data)}\")\n",
    "\n",
    "\n",
    "# Drop the \"time\" column as it won't be used in the model\n",
    "train_data = train_data.drop(columns=['time'])\n",
    "val_data = val_data.drop(columns=['time'])\n",
    "test_data = test_data.drop(columns=['time'])\n",
    "\n",
    "# Define the features (X) and the target (y)\n",
    "X_train = train_data.drop(columns=['flag'])\n",
    "y_train = train_data['flag']\n",
    "X_val = val_data.drop(columns=['flag'])\n",
    "y_val = val_data['flag']\n",
    "X_test = test_data.drop(columns=['flag'])\n",
    "y_test = test_data['flag']\n",
    "\n",
    "# Balanced Data - removing NaN values and associated data\n",
    "y_train = y_train.dropna()\n",
    "y_val = y_val.dropna()\n",
    "y_test = y_test.dropna()\n",
    "\n",
    "# aligning indices of features sets\n",
    "X_train = X_train.loc[y_train.index]\n",
    "X_val = X_val.loc[y_val.index]\n",
    "X_test = X_test.loc[y_test.index]"
   ]
  },
  {
   "cell_type": "markdown",
   "metadata": {},
   "source": [
    "### Model"
   ]
  },
  {
   "cell_type": "code",
   "execution_count": 5,
   "metadata": {},
   "outputs": [
    {
     "name": "stdout",
     "output_type": "stream",
     "text": [
      "Precision on Training Set = 0.905\n",
      "Precision on Validation Set = 0.908\n",
      "Recall on Training Set = 0.946\n",
      "Recall on Validation Set = 0.910\n",
      "F1 Score on Training Set = 0.925\n",
      "F1 Score on Validation Set = 0.909\n",
      "Misclassification Rate on Training Set = 0.128\n",
      "Misclassification Rate on Validation Set = 0.156\n"
     ]
    }
   ],
   "source": [
    "nn_model = MLPClassifier(random_state=42,\n",
    "                         max_iter=200, \n",
    "                         hidden_layer_sizes=(100,), \n",
    "                         shuffle=False,\n",
    "                         activation='relu', \n",
    "                         solver='adam', \n",
    "                         alpha=0.001, \n",
    "                         learning_rate='invscaling', \n",
    "                         batch_size=100, \n",
    "                         early_stopping=True,\n",
    "                         validation_fraction=0.1,\n",
    "                         learning_rate_init=0.01,\n",
    "                         epsilon=2e-10,\n",
    "                         beta_2=0.8,\n",
    "                         tol=1e-3,)\n",
    "\n",
    "nn_model.fit(X_train, y_train)\n",
    "\n",
    "class_probabilities_val = nn_model.predict_proba(X_val)\n",
    "class_probabilities_train = nn_model.predict_proba(X_train)\n",
    "\n",
    "confidence_threshold = cfg.confidence_threshold\n",
    "\n",
    "y_pred_val = (class_probabilities_val[:,1] > confidence_threshold).astype(int)\n",
    "y_pred_train = (class_probabilities_train[:,1] > confidence_threshold).astype(int)\n",
    "\n",
    "precision_val = precision_score(y_val, y_pred_val)\n",
    "precision_train = precision_score(y_train, y_pred_train)\n",
    "recall_val = recall_score(y_val, y_pred_val)\n",
    "recall_train = recall_score(y_train, y_pred_train)\n",
    "f1_val = f1_score(y_val, y_pred_val)\n",
    "f1_train = f1_score(y_train, y_pred_train)\n",
    "misclassification_rate_val = 1 - accuracy_score(y_val, y_pred_val)\n",
    "misclassification_rate_train = 1 - accuracy_score(y_train, y_pred_train)\n",
    "\n",
    "print(f\"Precision on Training Set = {precision_train:.3f}\")\n",
    "print(f\"Precision on Validation Set = {precision_val:.3f}\")\n",
    "print(f\"Recall on Training Set = {recall_train:.3f}\")\n",
    "print(f\"Recall on Validation Set = {recall_val:.3f}\")\n",
    "print(f\"F1 Score on Training Set = {f1_train:.3f}\")\n",
    "print(f\"F1 Score on Validation Set = {f1_val:.3f}\")\n",
    "print(f\"Misclassification Rate on Training Set = {misclassification_rate_train:.3f}\")\n",
    "print(f\"Misclassification Rate on Validation Set = {misclassification_rate_val:.3f}\")"
   ]
  },
  {
   "cell_type": "code",
   "execution_count": 6,
   "metadata": {},
   "outputs": [
    {
     "name": "stdout",
     "output_type": "stream",
     "text": [
      "Precision on Testing Set = 0.903\n",
      "Recall on Testing Set = 0.937\n",
      "F1 Score on Testing Set = 0.920\n",
      "Misclassification Rate on Testing Set = 0.140\n"
     ]
    }
   ],
   "source": [
    "# evaluating model on test set\n",
    "class_probabilities_test = nn_model.predict_proba(X_test)\n",
    "\n",
    "y_pred_test = (class_probabilities_test[:,1] > confidence_threshold).astype(int)\n",
    "\n",
    "precision_test = precision_score(y_test, y_pred_test)\n",
    "recall_test = recall_score(y_test, y_pred_test)\n",
    "f1_test = f1_score(y_test, y_pred_test)\n",
    "misclassification_rate_test = 1 - accuracy_score(y_test, y_pred_test)\n",
    "\n",
    "print(f\"Precision on Testing Set = {precision_test:.3f}\")\n",
    "print(f\"Recall on Testing Set = {recall_test:.3f}\")\n",
    "print(f\"F1 Score on Testing Set = {f1_test:.3f}\")\n",
    "print(f\"Misclassification Rate on Testing Set = {misclassification_rate_test:.3f}\")"
   ]
  },
  {
   "cell_type": "code",
   "execution_count": 7,
   "metadata": {},
   "outputs": [
    {
     "data": {
      "text/plain": [
       "['../model_files/nn_model_JFJ.joblib']"
      ]
     },
     "execution_count": 7,
     "metadata": {},
     "output_type": "execute_result"
    }
   ],
   "source": [
    "# saving the model\n",
    "dump(nn_model, data_path/f'nn_model_{site}.joblib')\n",
    "dump(nn_model, f'../model_files/nn_model_{site}.joblib')"
   ]
  },
  {
   "cell_type": "markdown",
   "metadata": {},
   "source": [
    "### Confusion Matrix"
   ]
  },
  {
   "cell_type": "code",
   "execution_count": 8,
   "metadata": {},
   "outputs": [
    {
     "data": {
      "text/plain": [
       "Text(0.5, 1.0, 'Jungfraujoch, Switzerland')"
      ]
     },
     "execution_count": 8,
     "metadata": {},
     "output_type": "execute_result"
    },
    {
     "data": {
      "image/png": "[encoded data removed]",
      "text/plain": [
       "<Figure size 600x600 with 2 Axes>"
      ]
     },
     "metadata": {},
     "output_type": "display_data"
    }
   ],
   "source": [
    "# creating a confusion matrix\n",
    "conf_matrix = pd.crosstab(y_test, y_pred_test, rownames=['Actual'], colnames=['Predicted'])\n",
    "\n",
    "conf_matrix.columns = ['Non-Baseline', 'Baseline']\n",
    "conf_matrix.index = ['Non-Baseline', 'Baseline']\n",
    "\n",
    "fig, ax = plt.subplots(figsize=(6, 6))\n",
    "\n",
    "sns.heatmap(conf_matrix, annot=True, fmt='d', cmap='BuPu', cbar=True, ax=ax)\n",
    "\n",
    "ax.set_xlabel('Predicted')\n",
    "ax.set_ylabel('Actual')\n",
    "\n",
    "ax.set_title(f'{site_name}')"
   ]
  },
  {
   "cell_type": "markdown",
   "metadata": {},
   "source": [
    "### Assessing Feature Importance"
   ]
  },
  {
   "cell_type": "code",
   "execution_count": 9,
   "metadata": {},
   "outputs": [],
   "source": [
    "# grouping features by category i.e. x-wind, y-wind, temporal etc.\n",
    "u_features = [col for col in data.columns if 'u' in col]\n",
    "v_features = [col for col in data.columns if 'v' in col]\n",
    "temporal_features = ['day_of_year', 'time_of_day']\n",
    "sp = ['sp']\n",
    "blh = ['blh']\n",
    "\n",
    "groups = [u_features, v_features, temporal_features, sp, blh]"
   ]
  },
  {
   "cell_type": "code",
   "execution_count": 10,
   "metadata": {},
   "outputs": [],
   "source": [
    "original_score = accuracy_score(y_train, nn_model.predict(X_train))\n",
    "importances = {}\n",
    "\n",
    "for group in groups:\n",
    "    scores_diff = []\n",
    "    for _ in range(100):\n",
    "        X_train_permuted = f.permute_group(X_train, group)\n",
    "        \n",
    "        permuted_score = accuracy_score(y_train, nn_model.predict(X_train_permuted))\n",
    "        scores_diff.append(original_score - permuted_score)\n",
    "    \n",
    "    importances[str(group)] = np.mean(scores_diff)\n",
    "\n",
    "# Sort groups by importance\n",
    "sorted_importances = sorted(importances.items(), key=lambda x: x[1], reverse=False)"
   ]
  },
  {
   "cell_type": "code",
   "execution_count": 11,
   "metadata": {},
   "outputs": [],
   "source": [
    "# matching the group names to the sorted importances\n",
    "n = len(groups)\n",
    "group_names_sorted = []\n",
    "\n",
    "for i in range(n):\n",
    "    name = sorted_importances[i][0]\n",
    "\n",
    "    if 'u10_0' in name:\n",
    "        group_names_sorted.append('u-wind')\n",
    "\n",
    "    elif 'v10_0' in name:\n",
    "        group_names_sorted.append('v-wind')\n",
    "\n",
    "    elif 'day_of_year' in name:\n",
    "        group_names_sorted.append('temporal')\n",
    "\n",
    "    elif 'sp' in name:\n",
    "        group_names_sorted.append('sp')\n",
    "\n",
    "    elif 'blh' in name:\n",
    "        group_names_sorted.append('blh')"
   ]
  },
  {
   "cell_type": "code",
   "execution_count": 12,
   "metadata": {},
   "outputs": [
    {
     "data": {
      "text/plain": [
       "Text(0, 0.5, 'Feature Group')"
      ]
     },
     "execution_count": 12,
     "metadata": {},
     "output_type": "execute_result"
    },
    {
     "data": {
      "image/png": "[encoded data removed]",
      "text/plain": [
       "<Figure size 1200x800 with 1 Axes>"
      ]
     },
     "metadata": {},
     "output_type": "display_data"
    }
   ],
   "source": [
    "# Plotting the importances of the groups\n",
    "fig, ax = plt.subplots(figsize=(12, 8))\n",
    "sns.set_theme(style='ticks', font='Arial')\n",
    "\n",
    "ax.barh(group_names_sorted, [importance for _, importance in sorted_importances], color='#FF620E')\n",
    "\n",
    "ax.set_xlabel('Importance', fontsize=12, fontstyle='italic')\n",
    "ax.set_ylabel('Feature Group', fontsize=12, fontstyle='italic')\n",
    "# ax.set_title('Permutation Importances', fontsize=14)"
   ]
  }
 ],
 "metadata": {
  "kernelspec": {
   "display_name": "venv",
   "language": "python",
   "name": "python3"
  },
  "language_info": {
   "codemirror_mode": {
    "name": "ipython",
    "version": 3
   },
   "file_extension": ".py",
   "mimetype": "text/x-python",
   "name": "python",
   "nbconvert_exporter": "python",
   "pygments_lexer": "ipython3",
   "version": "3.11.9"
  }
 },
 "nbformat": 4,
 "nbformat_minor": 2
}
