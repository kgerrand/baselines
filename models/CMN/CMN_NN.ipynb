{
 "cells": [
  {
   "cell_type": "markdown",
   "metadata": {},
   "source": [
    "# Neural Network Final Model - Monte Cimone, Italy"
   ]
  },
  {
   "cell_type": "code",
   "execution_count": 1,
   "metadata": {},
   "outputs": [],
   "source": [
    "import pandas as pd\n",
    "import numpy as np\n",
    "from joblib import dump\n",
    "from pathlib import Path\n",
    "import matplotlib.pyplot as plt\n",
    "import seaborn as sns\n",
    "\n",
    "from sklearn.neural_network import MLPClassifier\n",
    "from sklearn.metrics import precision_score, recall_score, f1_score, accuracy_score\n",
    "\n",
    "import sys\n",
    "sys.path.append('../../')\n",
    "import config as cfg\n",
    "import functions as f\n",
    "\n",
    "data_path = Path.home()/'OneDrive'/'Kirstin'/'Uni'/'Year4'/'MSciProject'/'data_files'/'saved_files'"
   ]
  },
  {
   "cell_type": "code",
   "execution_count": 2,
   "metadata": {},
   "outputs": [
    {
     "name": "stdout",
     "output_type": "stream",
     "text": [
      "Creating a neural network model for \u001b[1mMonte Cimone, Italy\u001b[0;0m.\n"
     ]
    }
   ],
   "source": [
    "site = cfg.site\n",
    "site_name = cfg.site_dict[site]\n",
    "assert site == 'CMN', 'This script is only for Monte Cimone, Italy. The site can be changed in the config file.'\n",
    "\n",
    "compound = cfg.compound\n",
    "\n",
    "print(f\"Creating a neural network model for \\033[1m{site_name}\\033[0;0m.\")"
   ]
  },
  {
   "cell_type": "markdown",
   "metadata": {},
   "source": [
    "### Loading & Initialising Data"
   ]
  },
  {
   "cell_type": "code",
   "execution_count": 3,
   "metadata": {},
   "outputs": [
    {
     "data": {
      "text/html": [
       "<div>\n",
       "<style scoped>\n",
       "    .dataframe tbody tr th:only-of-type {\n",
       "        vertical-align: middle;\n",
       "    }\n",
       "\n",
       "    .dataframe tbody tr th {\n",
       "        vertical-align: top;\n",
       "    }\n",
       "\n",
       "    .dataframe thead th {\n",
       "        text-align: right;\n",
       "    }\n",
       "</style>\n",
       "<table border=\"1\" class=\"dataframe\">\n",
       "  <thead>\n",
       "    <tr style=\"text-align: right;\">\n",
       "      <th></th>\n",
       "      <th>time</th>\n",
       "      <th>flag</th>\n",
       "      <th>u10_0</th>\n",
       "      <th>u10_1</th>\n",
       "      <th>u10_2</th>\n",
       "      <th>u10_3</th>\n",
       "      <th>u10_4</th>\n",
       "      <th>u10_5</th>\n",
       "      <th>u10_6</th>\n",
       "      <th>u10_7</th>\n",
       "      <th>...</th>\n",
       "      <th>v500_7_past</th>\n",
       "      <th>v500_8_past</th>\n",
       "      <th>v500_9_past</th>\n",
       "      <th>v500_10_past</th>\n",
       "      <th>v500_11_past</th>\n",
       "      <th>v500_12_past</th>\n",
       "      <th>v500_13_past</th>\n",
       "      <th>v500_14_past</th>\n",
       "      <th>v500_15_past</th>\n",
       "      <th>v500_16_past</th>\n",
       "    </tr>\n",
       "  </thead>\n",
       "  <tbody>\n",
       "    <tr>\n",
       "      <th>8310</th>\n",
       "      <td>2022-03-21 23:00:00</td>\n",
       "      <td>1.0</td>\n",
       "      <td>0.056193</td>\n",
       "      <td>-2.569966</td>\n",
       "      <td>-2.036486</td>\n",
       "      <td>-1.145440</td>\n",
       "      <td>-3.912016</td>\n",
       "      <td>-8.025862</td>\n",
       "      <td>-11.478339</td>\n",
       "      <td>0.391836</td>\n",
       "      <td>...</td>\n",
       "      <td>0.781332</td>\n",
       "      <td>8.654487</td>\n",
       "      <td>20.611177</td>\n",
       "      <td>6.949159</td>\n",
       "      <td>1.302032</td>\n",
       "      <td>-4.185453</td>\n",
       "      <td>-10.199606</td>\n",
       "      <td>2.697029</td>\n",
       "      <td>1.686961</td>\n",
       "      <td>-15.072398</td>\n",
       "    </tr>\n",
       "    <tr>\n",
       "      <th>6048</th>\n",
       "      <td>2019-01-14 19:00:00</td>\n",
       "      <td>1.0</td>\n",
       "      <td>1.323611</td>\n",
       "      <td>4.546371</td>\n",
       "      <td>4.834046</td>\n",
       "      <td>-0.646514</td>\n",
       "      <td>2.954528</td>\n",
       "      <td>5.170423</td>\n",
       "      <td>4.871421</td>\n",
       "      <td>1.458388</td>\n",
       "      <td>...</td>\n",
       "      <td>-40.112010</td>\n",
       "      <td>-30.276386</td>\n",
       "      <td>-28.517405</td>\n",
       "      <td>-3.531845</td>\n",
       "      <td>-9.989285</td>\n",
       "      <td>-18.165573</td>\n",
       "      <td>-15.671722</td>\n",
       "      <td>-2.391482</td>\n",
       "      <td>-24.538593</td>\n",
       "      <td>-38.539864</td>\n",
       "    </tr>\n",
       "    <tr>\n",
       "      <th>6803</th>\n",
       "      <td>2020-01-28 19:00:00</td>\n",
       "      <td>1.0</td>\n",
       "      <td>1.304362</td>\n",
       "      <td>6.167948</td>\n",
       "      <td>4.692097</td>\n",
       "      <td>0.810880</td>\n",
       "      <td>7.316917</td>\n",
       "      <td>9.250630</td>\n",
       "      <td>6.919948</td>\n",
       "      <td>3.266801</td>\n",
       "      <td>...</td>\n",
       "      <td>18.501840</td>\n",
       "      <td>3.037372</td>\n",
       "      <td>-19.585943</td>\n",
       "      <td>-31.741455</td>\n",
       "      <td>-13.794882</td>\n",
       "      <td>-10.983582</td>\n",
       "      <td>7.856302</td>\n",
       "      <td>33.392920</td>\n",
       "      <td>13.506721</td>\n",
       "      <td>-7.835359</td>\n",
       "    </tr>\n",
       "    <tr>\n",
       "      <th>4261</th>\n",
       "      <td>2016-01-07 17:00:00</td>\n",
       "      <td>1.0</td>\n",
       "      <td>0.783019</td>\n",
       "      <td>-1.672255</td>\n",
       "      <td>-2.349054</td>\n",
       "      <td>-0.900334</td>\n",
       "      <td>6.541583</td>\n",
       "      <td>12.617793</td>\n",
       "      <td>13.127987</td>\n",
       "      <td>0.296461</td>\n",
       "      <td>...</td>\n",
       "      <td>0.896416</td>\n",
       "      <td>2.046038</td>\n",
       "      <td>-1.055421</td>\n",
       "      <td>-5.285285</td>\n",
       "      <td>-8.427849</td>\n",
       "      <td>-4.960421</td>\n",
       "      <td>-0.783596</td>\n",
       "      <td>7.554143</td>\n",
       "      <td>0.176411</td>\n",
       "      <td>7.166958</td>\n",
       "    </tr>\n",
       "    <tr>\n",
       "      <th>8469</th>\n",
       "      <td>2022-09-30 17:00:00</td>\n",
       "      <td>1.0</td>\n",
       "      <td>-0.566360</td>\n",
       "      <td>-0.763207</td>\n",
       "      <td>-0.951195</td>\n",
       "      <td>-0.929542</td>\n",
       "      <td>-6.605619</td>\n",
       "      <td>6.122001</td>\n",
       "      <td>-1.493016</td>\n",
       "      <td>1.166384</td>\n",
       "      <td>...</td>\n",
       "      <td>13.577961</td>\n",
       "      <td>-6.146927</td>\n",
       "      <td>-5.874976</td>\n",
       "      <td>11.986879</td>\n",
       "      <td>9.869953</td>\n",
       "      <td>6.853670</td>\n",
       "      <td>12.672962</td>\n",
       "      <td>8.700903</td>\n",
       "      <td>-17.400720</td>\n",
       "      <td>-5.775675</td>\n",
       "    </tr>\n",
       "  </tbody>\n",
       "</table>\n",
       "<p>5 rows × 210 columns</p>\n",
       "</div>"
      ],
      "text/plain": [
       "                    time  flag     u10_0     u10_1     u10_2     u10_3  \\\n",
       "8310 2022-03-21 23:00:00   1.0  0.056193 -2.569966 -2.036486 -1.145440   \n",
       "6048 2019-01-14 19:00:00   1.0  1.323611  4.546371  4.834046 -0.646514   \n",
       "6803 2020-01-28 19:00:00   1.0  1.304362  6.167948  4.692097  0.810880   \n",
       "4261 2016-01-07 17:00:00   1.0  0.783019 -1.672255 -2.349054 -0.900334   \n",
       "8469 2022-09-30 17:00:00   1.0 -0.566360 -0.763207 -0.951195 -0.929542   \n",
       "\n",
       "         u10_4      u10_5      u10_6     u10_7  ...  v500_7_past  v500_8_past  \\\n",
       "8310 -3.912016  -8.025862 -11.478339  0.391836  ...     0.781332     8.654487   \n",
       "6048  2.954528   5.170423   4.871421  1.458388  ...   -40.112010   -30.276386   \n",
       "6803  7.316917   9.250630   6.919948  3.266801  ...    18.501840     3.037372   \n",
       "4261  6.541583  12.617793  13.127987  0.296461  ...     0.896416     2.046038   \n",
       "8469 -6.605619   6.122001  -1.493016  1.166384  ...    13.577961    -6.146927   \n",
       "\n",
       "      v500_9_past  v500_10_past  v500_11_past  v500_12_past  v500_13_past  \\\n",
       "8310    20.611177      6.949159      1.302032     -4.185453    -10.199606   \n",
       "6048   -28.517405     -3.531845     -9.989285    -18.165573    -15.671722   \n",
       "6803   -19.585943    -31.741455    -13.794882    -10.983582      7.856302   \n",
       "4261    -1.055421     -5.285285     -8.427849     -4.960421     -0.783596   \n",
       "8469    -5.874976     11.986879      9.869953      6.853670     12.672962   \n",
       "\n",
       "      v500_14_past  v500_15_past  v500_16_past  \n",
       "8310      2.697029      1.686961    -15.072398  \n",
       "6048     -2.391482    -24.538593    -38.539864  \n",
       "6803     33.392920     13.506721     -7.835359  \n",
       "4261      7.554143      0.176411      7.166958  \n",
       "8469      8.700903    -17.400720     -5.775675  \n",
       "\n",
       "[5 rows x 210 columns]"
      ]
     },
     "execution_count": 3,
     "metadata": {},
     "output_type": "execute_result"
    }
   ],
   "source": [
    "data = pd.read_csv(data_path/f'for_model_{compound}_{site}.csv', parse_dates=['time'])\n",
    "data.sample(5)"
   ]
  },
  {
   "cell_type": "code",
   "execution_count": 4,
   "metadata": {},
   "outputs": [
    {
     "name": "stdout",
     "output_type": "stream",
     "text": [
      "Train range: 2018-01-01 01:00:00 -> 2018-12-31 01:00:00. Length: 520\n",
      "Val range: 2019-01-02 03:00:00 -> 2019-12-31 23:00:00. Length: 732\n",
      "Test range: 2020-01-04 17:00:00 -> 2022-12-31 21:00:00. Length: 1894\n"
     ]
    }
   ],
   "source": [
    "train_data = data[(data['time'].dt.year >= 2018) & (data['time'].dt.year <= 2018)]\n",
    "val_data = data[(data['time'].dt.year >= 2019) & (data['time'].dt.year <= 2019)]\n",
    "test_data = data[(data['time'].dt.year >= 2020) & (data['time'].dt.year <= 2023)]\n",
    "\n",
    "print(f\"Train range: {train_data['time'].min()} -> {train_data['time'].max()}. Length: {len(train_data)}\")\n",
    "print(f\"Val range: {val_data['time'].min()} -> {val_data['time'].max()}. Length: {len(val_data)}\")\n",
    "print(f\"Test range: {test_data['time'].min()} -> {test_data['time'].max()}. Length: {len(test_data)}\")\n",
    "\n",
    "\n",
    "# Drop the \"time\" column as it won't be used in the model\n",
    "train_data = train_data.drop(columns=['time'])\n",
    "val_data = val_data.drop(columns=['time'])\n",
    "test_data = test_data.drop(columns=['time'])\n",
    "\n",
    "# Define the features (X) and the target (y)\n",
    "X_train = train_data.drop(columns=['flag'])\n",
    "y_train = train_data['flag']\n",
    "X_val = val_data.drop(columns=['flag'])\n",
    "y_val = val_data['flag']\n",
    "X_test = test_data.drop(columns=['flag'])\n",
    "y_test = test_data['flag']\n",
    "\n",
    "# Balanced Data - removing NaN values and associated data\n",
    "y_train = y_train.dropna()\n",
    "y_val = y_val.dropna()\n",
    "y_test = y_test.dropna()\n",
    "\n",
    "# aligning indices of features sets\n",
    "X_train = X_train.loc[y_train.index]\n",
    "X_val = X_val.loc[y_val.index]\n",
    "X_test = X_test.loc[y_test.index]"
   ]
  },
  {
   "cell_type": "markdown",
   "metadata": {},
   "source": [
    "### Model"
   ]
  },
  {
   "cell_type": "code",
   "execution_count": 5,
   "metadata": {},
   "outputs": [
    {
     "name": "stdout",
     "output_type": "stream",
     "text": [
      "Precision on Training Set = 0.923\n",
      "Precision on Validation Set = 0.926\n",
      "Recall on Training Set = 0.679\n",
      "Recall on Validation Set = 0.590\n",
      "F1 Score on Training Set = 0.782\n",
      "F1 Score on Validation Set = 0.721\n",
      "Misclassification Rate on Training Set = 0.319\n",
      "Misclassification Rate on Validation Set = 0.410\n"
     ]
    }
   ],
   "source": [
    "nn_model = MLPClassifier(random_state=42,\n",
    "                         max_iter=1000, \n",
    "                         hidden_layer_sizes=(100,), \n",
    "                         shuffle=False,\n",
    "                         activation='relu', \n",
    "                         solver='adam', \n",
    "                         alpha=0.5, \n",
    "                         learning_rate='constant', \n",
    "                         batch_size=250, \n",
    "                         early_stopping=False,\n",
    "                         learning_rate_init=0.01,\n",
    "                         beta_2=0.9,)\n",
    "\n",
    "nn_model.fit(X_train, y_train)\n",
    "\n",
    "class_probabilities_val = nn_model.predict_proba(X_val)\n",
    "class_probabilities_train = nn_model.predict_proba(X_train)\n",
    "\n",
    "confidence_threshold = cfg.confidence_threshold\n",
    "\n",
    "y_pred_val = (class_probabilities_val[:,1] > confidence_threshold).astype(int)\n",
    "y_pred_train = (class_probabilities_train[:,1] > confidence_threshold).astype(int)\n",
    "\n",
    "\n",
    "precision_val = precision_score(y_val, y_pred_val)\n",
    "precision_train = precision_score(y_train, y_pred_train)\n",
    "recall_val = recall_score(y_val, y_pred_val)\n",
    "recall_train = recall_score(y_train, y_pred_train)\n",
    "f1_val = f1_score(y_val, y_pred_val)\n",
    "f1_train = f1_score(y_train, y_pred_train)\n",
    "misclassification_rate_val = 1 - accuracy_score(y_val, y_pred_val)\n",
    "misclassification_rate_train = 1 - accuracy_score(y_train, y_pred_train)\n",
    "\n",
    "print(f\"Precision on Training Set = {precision_train:.3f}\")\n",
    "print(f\"Precision on Validation Set = {precision_val:.3f}\")\n",
    "print(f\"Recall on Training Set = {recall_train:.3f}\")\n",
    "print(f\"Recall on Validation Set = {recall_val:.3f}\")\n",
    "print(f\"F1 Score on Training Set = {f1_train:.3f}\")\n",
    "print(f\"F1 Score on Validation Set = {f1_val:.3f}\")\n",
    "print(f\"Misclassification Rate on Training Set = {misclassification_rate_train:.3f}\")\n",
    "print(f\"Misclassification Rate on Validation Set = {misclassification_rate_val:.3f}\")"
   ]
  },
  {
   "cell_type": "code",
   "execution_count": 7,
   "metadata": {},
   "outputs": [
    {
     "name": "stdout",
     "output_type": "stream",
     "text": [
      "Precision on Testing Set = 0.934\n",
      "Recall on Testing Set = 0.572\n",
      "F1 Score on Testing Set = 0.709\n",
      "Misclassification Rate on Testing Set = 0.414\n"
     ]
    }
   ],
   "source": [
    "# evaluating model on test set\n",
    "class_probabilities_test = nn_model.predict_proba(X_test)\n",
    "\n",
    "y_pred_test = (class_probabilities_test[:,1] > confidence_threshold).astype(int)\n",
    "\n",
    "precision_test = precision_score(y_test, y_pred_test)\n",
    "recall_test = recall_score(y_test, y_pred_test)\n",
    "f1_test = f1_score(y_test, y_pred_test)\n",
    "misclassification_rate_test = 1 - accuracy_score(y_test, y_pred_test)\n",
    "\n",
    "print(f\"Precision on Testing Set = {precision_test:.3f}\")\n",
    "print(f\"Recall on Testing Set = {recall_test:.3f}\")\n",
    "print(f\"F1 Score on Testing Set = {f1_test:.3f}\")\n",
    "print(f\"Misclassification Rate on Testing Set = {misclassification_rate_test:.3f}\")"
   ]
  },
  {
   "cell_type": "code",
   "execution_count": 8,
   "metadata": {},
   "outputs": [
    {
     "data": {
      "text/plain": [
       "['../model_files/nn_model_CMN.joblib']"
      ]
     },
     "execution_count": 8,
     "metadata": {},
     "output_type": "execute_result"
    }
   ],
   "source": [
    "# saving the model\n",
    "dump(nn_model, data_path/f'nn_model_{site}.joblib')\n",
    "dump(nn_model, f'../model_files/nn_model_{site}.joblib')"
   ]
  },
  {
   "cell_type": "markdown",
   "metadata": {},
   "source": [
    "### Confusion Matrix"
   ]
  },
  {
   "cell_type": "code",
   "execution_count": 9,
   "metadata": {},
   "outputs": [
    {
     "data": {
      "text/plain": [
       "Text(0.5, 1.0, 'Monte Cimone, Italy')"
      ]
     },
     "execution_count": 9,
     "metadata": {},
     "output_type": "execute_result"
    },
    {
     "data": {
      "image/png": "[encoded data removed]",
      "text/plain": [
       "<Figure size 600x600 with 2 Axes>"
      ]
     },
     "metadata": {},
     "output_type": "display_data"
    }
   ],
   "source": [
    "# creating a confusion matrix\n",
    "conf_matrix = pd.crosstab(y_test, y_pred_test, rownames=['Actual'], colnames=['Predicted'])\n",
    "\n",
    "conf_matrix.columns = ['Non-Baseline', 'Baseline']\n",
    "conf_matrix.index = ['Non-Baseline', 'Baseline']\n",
    "\n",
    "fig, ax = plt.subplots(figsize=(6, 6))\n",
    "\n",
    "sns.heatmap(conf_matrix, annot=True, fmt='d', cmap='BuPu', cbar=True, ax=ax)\n",
    "\n",
    "ax.set_xlabel('Predicted')\n",
    "ax.set_ylabel('Actual')\n",
    "\n",
    "ax.set_title(f'{site_name}')"
   ]
  },
  {
   "cell_type": "markdown",
   "metadata": {},
   "source": [
    "### Assessing Feature Importance"
   ]
  },
  {
   "cell_type": "code",
   "execution_count": 10,
   "metadata": {},
   "outputs": [],
   "source": [
    "# grouping features by category i.e. x-wind, y-wind, temporal etc.\n",
    "u_features = [col for col in data.columns if 'u' in col]\n",
    "v_features = [col for col in data.columns if 'v' in col]\n",
    "temporal_features = ['day_of_year', 'time_of_day']\n",
    "sp = ['sp']\n",
    "blh = ['blh']\n",
    "\n",
    "groups = [u_features, v_features, temporal_features, sp, blh]"
   ]
  },
  {
   "cell_type": "code",
   "execution_count": 11,
   "metadata": {},
   "outputs": [],
   "source": [
    "original_score = accuracy_score(y_train, nn_model.predict(X_train))\n",
    "importances = {}\n",
    "\n",
    "for group in groups:\n",
    "    scores_diff = []\n",
    "    for _ in range(100):\n",
    "        X_train_permuted = f.permute_group(X_train, group)\n",
    "        \n",
    "        permuted_score = accuracy_score(y_train, nn_model.predict(X_train_permuted))\n",
    "        scores_diff.append(original_score - permuted_score)\n",
    "    \n",
    "    importances[str(group)] = np.mean(scores_diff)\n",
    "\n",
    "# Sort groups by importance\n",
    "sorted_importances = sorted(importances.items(), key=lambda x: x[1], reverse=False)"
   ]
  },
  {
   "cell_type": "code",
   "execution_count": 12,
   "metadata": {},
   "outputs": [],
   "source": [
    "# matching the group names to the sorted importances\n",
    "n = len(groups)\n",
    "group_names_sorted = []\n",
    "\n",
    "for i in range(n):\n",
    "    name = sorted_importances[i][0]\n",
    "\n",
    "    if 'u10_0' in name:\n",
    "        group_names_sorted.append('u-wind')\n",
    "\n",
    "    elif 'v10_0' in name:\n",
    "        group_names_sorted.append('v-wind')\n",
    "\n",
    "    elif 'day_of_year' in name:\n",
    "        group_names_sorted.append('temporal')\n",
    "\n",
    "    elif 'sp' in name:\n",
    "        group_names_sorted.append('sp')\n",
    "\n",
    "    elif 'blh' in name:\n",
    "        group_names_sorted.append('blh')"
   ]
  },
  {
   "cell_type": "code",
   "execution_count": 13,
   "metadata": {},
   "outputs": [
    {
     "data": {
      "text/plain": [
       "Text(0, 0.5, 'Feature Group')"
      ]
     },
     "execution_count": 13,
     "metadata": {},
     "output_type": "execute_result"
    },
    {
     "data": {
      "image/png": "[encoded data removed]",
      "text/plain": [
       "<Figure size 1200x800 with 1 Axes>"
      ]
     },
     "metadata": {},
     "output_type": "display_data"
    }
   ],
   "source": [
    "# Plotting the importances of the groups\n",
    "fig, ax = plt.subplots(figsize=(12, 8))\n",
    "sns.set_theme(style='ticks', font='Arial')\n",
    "\n",
    "ax.barh(group_names_sorted, [importance for _, importance in sorted_importances], color='#FF620E')\n",
    "\n",
    "ax.set_xlabel('Importance', fontsize=12, fontstyle='italic')\n",
    "ax.set_ylabel('Feature Group', fontsize=12, fontstyle='italic')\n",
    "# ax.set_title('Permutation Importances', fontsize=14)"
   ]
  }
 ],
 "metadata": {
  "kernelspec": {
   "display_name": "venv",
   "language": "python",
   "name": "python3"
  },
  "language_info": {
   "codemirror_mode": {
    "name": "ipython",
    "version": 3
   },
   "file_extension": ".py",
   "mimetype": "text/x-python",
   "name": "python",
   "nbconvert_exporter": "python",
   "pygments_lexer": "ipython3",
   "version": "3.11.9"
  }
 },
 "nbformat": 4,
 "nbformat_minor": 2
}
