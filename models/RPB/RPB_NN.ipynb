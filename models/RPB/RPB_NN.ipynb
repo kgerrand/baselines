{
 "cells": [
  {
   "cell_type": "markdown",
   "metadata": {},
   "source": [
    "# Neural Network Final Model - Ragged Point, Barbados"
   ]
  },
  {
   "cell_type": "code",
   "execution_count": 1,
   "metadata": {},
   "outputs": [],
   "source": [
    "import pandas as pd\n",
    "import numpy as np\n",
    "from joblib import dump\n",
    "from pathlib import Path\n",
    "import matplotlib.pyplot as plt\n",
    "import seaborn as sns\n",
    "\n",
    "from sklearn.neural_network import MLPClassifier\n",
    "from sklearn.metrics import precision_score, recall_score, f1_score, accuracy_score\n",
    "\n",
    "import sys\n",
    "sys.path.append('../../')\n",
    "import config as cfg\n",
    "import functions as f\n",
    "\n",
    "data_path = Path.home()/'OneDrive'/'Kirstin'/'Uni'/'Year4'/'MSciProject'/'data_files'/'saved_files'"
   ]
  },
  {
   "cell_type": "code",
   "execution_count": 2,
   "metadata": {},
   "outputs": [
    {
     "name": "stdout",
     "output_type": "stream",
     "text": [
      "Creating a neural network model for \u001b[1mRagged Point, Barbados\u001b[0;0m.\n"
     ]
    }
   ],
   "source": [
    "site = cfg.site\n",
    "site_name = cfg.site_dict[site]\n",
    "assert site == 'RPB', 'This script is only for Ragged Point, Barbados. The site can be changed in the config file.'\n",
    "\n",
    "compound = cfg.compound\n",
    "\n",
    "print(f\"Creating a neural network model for \\033[1m{site_name}\\033[0;0m.\")"
   ]
  },
  {
   "cell_type": "markdown",
   "metadata": {},
   "source": [
    "### Loading & Initialising Data"
   ]
  },
  {
   "cell_type": "code",
   "execution_count": 3,
   "metadata": {},
   "outputs": [
    {
     "data": {
      "text/html": [
       "<div>\n",
       "<style scoped>\n",
       "    .dataframe tbody tr th:only-of-type {\n",
       "        vertical-align: middle;\n",
       "    }\n",
       "\n",
       "    .dataframe tbody tr th {\n",
       "        vertical-align: top;\n",
       "    }\n",
       "\n",
       "    .dataframe thead th {\n",
       "        text-align: right;\n",
       "    }\n",
       "</style>\n",
       "<table border=\"1\" class=\"dataframe\">\n",
       "  <thead>\n",
       "    <tr style=\"text-align: right;\">\n",
       "      <th></th>\n",
       "      <th>time</th>\n",
       "      <th>flag</th>\n",
       "      <th>u10_0</th>\n",
       "      <th>u10_1</th>\n",
       "      <th>u10_2</th>\n",
       "      <th>u10_3</th>\n",
       "      <th>u10_4</th>\n",
       "      <th>u10_5</th>\n",
       "      <th>u10_6</th>\n",
       "      <th>u10_7</th>\n",
       "      <th>...</th>\n",
       "      <th>v500_7_past</th>\n",
       "      <th>v500_8_past</th>\n",
       "      <th>v500_9_past</th>\n",
       "      <th>v500_10_past</th>\n",
       "      <th>v500_11_past</th>\n",
       "      <th>v500_12_past</th>\n",
       "      <th>v500_13_past</th>\n",
       "      <th>v500_14_past</th>\n",
       "      <th>v500_15_past</th>\n",
       "      <th>v500_16_past</th>\n",
       "    </tr>\n",
       "  </thead>\n",
       "  <tbody>\n",
       "    <tr>\n",
       "      <th>15803</th>\n",
       "      <td>2009-12-20 09:00:00</td>\n",
       "      <td>1.0</td>\n",
       "      <td>-6.771131</td>\n",
       "      <td>-2.604133</td>\n",
       "      <td>-4.755302</td>\n",
       "      <td>-7.865957</td>\n",
       "      <td>-8.976350</td>\n",
       "      <td>-3.049500</td>\n",
       "      <td>-3.940668</td>\n",
       "      <td>-8.443206</td>\n",
       "      <td>...</td>\n",
       "      <td>2.177159</td>\n",
       "      <td>2.095702</td>\n",
       "      <td>-0.297298</td>\n",
       "      <td>-3.677793</td>\n",
       "      <td>-1.264787</td>\n",
       "      <td>1.064618</td>\n",
       "      <td>-2.135098</td>\n",
       "      <td>-2.040779</td>\n",
       "      <td>0.432964</td>\n",
       "      <td>6.914569</td>\n",
       "    </tr>\n",
       "    <tr>\n",
       "      <th>28307</th>\n",
       "      <td>2020-03-11 11:00:00</td>\n",
       "      <td>0.0</td>\n",
       "      <td>-7.444623</td>\n",
       "      <td>-6.543595</td>\n",
       "      <td>-6.741551</td>\n",
       "      <td>-6.828374</td>\n",
       "      <td>-5.735179</td>\n",
       "      <td>-3.514060</td>\n",
       "      <td>-3.441129</td>\n",
       "      <td>-7.256313</td>\n",
       "      <td>...</td>\n",
       "      <td>2.603513</td>\n",
       "      <td>2.857870</td>\n",
       "      <td>10.153778</td>\n",
       "      <td>1.669594</td>\n",
       "      <td>0.657529</td>\n",
       "      <td>-2.380198</td>\n",
       "      <td>1.255115</td>\n",
       "      <td>1.029871</td>\n",
       "      <td>0.164138</td>\n",
       "      <td>-2.244592</td>\n",
       "    </tr>\n",
       "    <tr>\n",
       "      <th>15637</th>\n",
       "      <td>2009-11-23 05:00:00</td>\n",
       "      <td>1.0</td>\n",
       "      <td>-8.076706</td>\n",
       "      <td>-7.204536</td>\n",
       "      <td>-6.873507</td>\n",
       "      <td>-8.597694</td>\n",
       "      <td>-9.346707</td>\n",
       "      <td>-4.326039</td>\n",
       "      <td>-4.123391</td>\n",
       "      <td>-9.788950</td>\n",
       "      <td>...</td>\n",
       "      <td>-2.901111</td>\n",
       "      <td>-1.579496</td>\n",
       "      <td>-5.055707</td>\n",
       "      <td>-1.566378</td>\n",
       "      <td>-3.470095</td>\n",
       "      <td>1.931149</td>\n",
       "      <td>-2.811747</td>\n",
       "      <td>-1.734449</td>\n",
       "      <td>0.903044</td>\n",
       "      <td>2.327142</td>\n",
       "    </tr>\n",
       "    <tr>\n",
       "      <th>9278</th>\n",
       "      <td>2005-05-06 03:00:00</td>\n",
       "      <td>1.0</td>\n",
       "      <td>-8.145283</td>\n",
       "      <td>-9.148781</td>\n",
       "      <td>-7.993351</td>\n",
       "      <td>-8.032266</td>\n",
       "      <td>-7.139716</td>\n",
       "      <td>-2.781292</td>\n",
       "      <td>-3.064043</td>\n",
       "      <td>-8.690500</td>\n",
       "      <td>...</td>\n",
       "      <td>-0.241957</td>\n",
       "      <td>-1.243329</td>\n",
       "      <td>-6.671869</td>\n",
       "      <td>-0.929820</td>\n",
       "      <td>3.521009</td>\n",
       "      <td>1.482771</td>\n",
       "      <td>1.475165</td>\n",
       "      <td>-2.426386</td>\n",
       "      <td>-0.307025</td>\n",
       "      <td>0.497454</td>\n",
       "    </tr>\n",
       "    <tr>\n",
       "      <th>13466</th>\n",
       "      <td>2008-05-20 03:00:00</td>\n",
       "      <td>1.0</td>\n",
       "      <td>-7.310830</td>\n",
       "      <td>-6.687891</td>\n",
       "      <td>-7.111166</td>\n",
       "      <td>-6.746096</td>\n",
       "      <td>-7.456342</td>\n",
       "      <td>-3.880798</td>\n",
       "      <td>-2.563085</td>\n",
       "      <td>-7.676268</td>\n",
       "      <td>...</td>\n",
       "      <td>-3.470218</td>\n",
       "      <td>-0.594643</td>\n",
       "      <td>-5.559122</td>\n",
       "      <td>-7.218933</td>\n",
       "      <td>-2.870788</td>\n",
       "      <td>2.582598</td>\n",
       "      <td>-1.348156</td>\n",
       "      <td>2.313440</td>\n",
       "      <td>2.741233</td>\n",
       "      <td>5.734483</td>\n",
       "    </tr>\n",
       "  </tbody>\n",
       "</table>\n",
       "<p>5 rows × 210 columns</p>\n",
       "</div>"
      ],
      "text/plain": [
       "                     time  flag     u10_0     u10_1     u10_2     u10_3  \\\n",
       "15803 2009-12-20 09:00:00   1.0 -6.771131 -2.604133 -4.755302 -7.865957   \n",
       "28307 2020-03-11 11:00:00   0.0 -7.444623 -6.543595 -6.741551 -6.828374   \n",
       "15637 2009-11-23 05:00:00   1.0 -8.076706 -7.204536 -6.873507 -8.597694   \n",
       "9278  2005-05-06 03:00:00   1.0 -8.145283 -9.148781 -7.993351 -8.032266   \n",
       "13466 2008-05-20 03:00:00   1.0 -7.310830 -6.687891 -7.111166 -6.746096   \n",
       "\n",
       "          u10_4     u10_5     u10_6     u10_7  ...  v500_7_past  v500_8_past  \\\n",
       "15803 -8.976350 -3.049500 -3.940668 -8.443206  ...     2.177159     2.095702   \n",
       "28307 -5.735179 -3.514060 -3.441129 -7.256313  ...     2.603513     2.857870   \n",
       "15637 -9.346707 -4.326039 -4.123391 -9.788950  ...    -2.901111    -1.579496   \n",
       "9278  -7.139716 -2.781292 -3.064043 -8.690500  ...    -0.241957    -1.243329   \n",
       "13466 -7.456342 -3.880798 -2.563085 -7.676268  ...    -3.470218    -0.594643   \n",
       "\n",
       "       v500_9_past  v500_10_past  v500_11_past  v500_12_past  v500_13_past  \\\n",
       "15803    -0.297298     -3.677793     -1.264787      1.064618     -2.135098   \n",
       "28307    10.153778      1.669594      0.657529     -2.380198      1.255115   \n",
       "15637    -5.055707     -1.566378     -3.470095      1.931149     -2.811747   \n",
       "9278     -6.671869     -0.929820      3.521009      1.482771      1.475165   \n",
       "13466    -5.559122     -7.218933     -2.870788      2.582598     -1.348156   \n",
       "\n",
       "       v500_14_past  v500_15_past  v500_16_past  \n",
       "15803     -2.040779      0.432964      6.914569  \n",
       "28307      1.029871      0.164138     -2.244592  \n",
       "15637     -1.734449      0.903044      2.327142  \n",
       "9278      -2.426386     -0.307025      0.497454  \n",
       "13466      2.313440      2.741233      5.734483  \n",
       "\n",
       "[5 rows x 210 columns]"
      ]
     },
     "execution_count": 3,
     "metadata": {},
     "output_type": "execute_result"
    }
   ],
   "source": [
    "data = pd.read_csv(data_path/f'for_model_{compound}_{site}.csv', parse_dates=['time'])\n",
    "data.sample(5)"
   ]
  },
  {
   "cell_type": "code",
   "execution_count": 4,
   "metadata": {},
   "outputs": [
    {
     "name": "stdout",
     "output_type": "stream",
     "text": [
      "Train range: 2018-01-02 05:00:00 -> 2018-12-31 23:00:00. Length: 1371\n",
      "Val range: 2019-01-01 01:00:00 -> 2019-12-31 13:00:00. Length: 1213\n",
      "Test range: 2020-01-01 17:00:00 -> 2022-12-30 19:00:00. Length: 3634\n"
     ]
    }
   ],
   "source": [
    "train_data = data[(data['time'].dt.year >= 2018) & (data['time'].dt.year <= 2018)]\n",
    "val_data = data[(data['time'].dt.year >= 2019) & (data['time'].dt.year <= 2019)]\n",
    "test_data = data[(data['time'].dt.year >= 2020) & (data['time'].dt.year <= 2023)]\n",
    "\n",
    "print(f\"Train range: {train_data['time'].min()} -> {train_data['time'].max()}. Length: {len(train_data)}\")\n",
    "print(f\"Val range: {val_data['time'].min()} -> {val_data['time'].max()}. Length: {len(val_data)}\")\n",
    "print(f\"Test range: {test_data['time'].min()} -> {test_data['time'].max()}. Length: {len(test_data)}\")\n",
    "\n",
    "\n",
    "# Drop the \"time\" column as it won't be used in the model\n",
    "train_data = train_data.drop(columns=['time'])\n",
    "val_data = val_data.drop(columns=['time'])\n",
    "test_data = test_data.drop(columns=['time'])\n",
    "\n",
    "# Define the features (X) and the target (y)\n",
    "X_train = train_data.drop(columns=['flag'])\n",
    "y_train = train_data['flag']\n",
    "X_val = val_data.drop(columns=['flag'])\n",
    "y_val = val_data['flag']\n",
    "X_test = test_data.drop(columns=['flag'])\n",
    "y_test = test_data['flag']\n",
    "\n",
    "# Balanced Data - removing NaN values and associated data\n",
    "y_train = y_train.dropna()\n",
    "y_val = y_val.dropna()\n",
    "y_test = y_test.dropna()\n",
    "\n",
    "# aligning indices of features sets\n",
    "X_train = X_train.loc[y_train.index]\n",
    "X_val = X_val.loc[y_val.index]\n",
    "X_test = X_test.loc[y_test.index]"
   ]
  },
  {
   "cell_type": "markdown",
   "metadata": {},
   "source": [
    "### Model"
   ]
  },
  {
   "cell_type": "code",
   "execution_count": 20,
   "metadata": {},
   "outputs": [
    {
     "name": "stdout",
     "output_type": "stream",
     "text": [
      "Precision on Training Set = 0.914\n",
      "Precision on Validation Set = 0.885\n",
      "Recall on Training Set = 0.697\n",
      "Recall on Validation Set = 0.849\n",
      "F1 Score on Training Set = 0.791\n",
      "F1 Score on Validation Set = 0.867\n",
      "Misclassification Rate on Training Set = 0.302\n",
      "Misclassification Rate on Validation Set = 0.199\n"
     ]
    }
   ],
   "source": [
    "nn_model = MLPClassifier(random_state=1,\n",
    "                         max_iter=500, \n",
    "                         hidden_layer_sizes=(150,150,150), \n",
    "                         shuffle=False,\n",
    "                         activation='relu', \n",
    "                         solver='adam', \n",
    "                         alpha=0.0001, \n",
    "                         learning_rate='constant', \n",
    "                         batch_size=100, \n",
    "                         early_stopping=True,\n",
    "                         learning_rate_init=0.001,\n",
    "                         beta_2=0.9,)\n",
    "\n",
    "nn_model.fit(X_train, y_train)\n",
    "\n",
    "class_probabilities_val = nn_model.predict_proba(X_val)\n",
    "class_probabilities_train = nn_model.predict_proba(X_train)\n",
    "\n",
    "confidence_threshold = cfg.confidence_threshold\n",
    "\n",
    "y_pred_val = (class_probabilities_val[:,1] > confidence_threshold).astype(int)\n",
    "y_pred_train = (class_probabilities_train[:,1] > confidence_threshold).astype(int)\n",
    "\n",
    "\n",
    "precision_val = precision_score(y_val, y_pred_val)\n",
    "precision_train = precision_score(y_train, y_pred_train)\n",
    "recall_val = recall_score(y_val, y_pred_val)\n",
    "recall_train = recall_score(y_train, y_pred_train)\n",
    "f1_val = f1_score(y_val, y_pred_val)\n",
    "f1_train = f1_score(y_train, y_pred_train)\n",
    "misclassification_rate_val = 1 - accuracy_score(y_val, y_pred_val)\n",
    "misclassification_rate_train = 1 - accuracy_score(y_train, y_pred_train)\n",
    "\n",
    "print(f\"Precision on Training Set = {precision_train:.3f}\")\n",
    "print(f\"Precision on Validation Set = {precision_val:.3f}\")\n",
    "print(f\"Recall on Training Set = {recall_train:.3f}\")\n",
    "print(f\"Recall on Validation Set = {recall_val:.3f}\")\n",
    "print(f\"F1 Score on Training Set = {f1_train:.3f}\")\n",
    "print(f\"F1 Score on Validation Set = {f1_val:.3f}\")\n",
    "print(f\"Misclassification Rate on Training Set = {misclassification_rate_train:.3f}\")\n",
    "print(f\"Misclassification Rate on Validation Set = {misclassification_rate_val:.3f}\")"
   ]
  },
  {
   "cell_type": "code",
   "execution_count": 21,
   "metadata": {},
   "outputs": [
    {
     "name": "stdout",
     "output_type": "stream",
     "text": [
      "Precision on Testing Set = 0.889\n",
      "Recall on Testing Set = 0.770\n",
      "F1 Score on Testing Set = 0.825\n",
      "Misclassification Rate on Testing Set = 0.248\n"
     ]
    }
   ],
   "source": [
    "# evaluating model on test set\n",
    "class_probabilities_test = nn_model.predict_proba(X_test)\n",
    "y_pred_test = (class_probabilities_test[:,1] > confidence_threshold).astype(int)\n",
    "\n",
    "precision_test = precision_score(y_test, y_pred_test)\n",
    "recall_test = recall_score(y_test, y_pred_test)\n",
    "f1_test = f1_score(y_test, y_pred_test)\n",
    "misclassification_rate_test = 1 - accuracy_score(y_test, y_pred_test)\n",
    "\n",
    "print(f\"Precision on Testing Set = {precision_test:.3f}\")\n",
    "print(f\"Recall on Testing Set = {recall_test:.3f}\")\n",
    "print(f\"F1 Score on Testing Set = {f1_test:.3f}\")\n",
    "print(f\"Misclassification Rate on Testing Set = {misclassification_rate_test:.3f}\")"
   ]
  },
  {
   "cell_type": "code",
   "execution_count": 22,
   "metadata": {},
   "outputs": [
    {
     "data": {
      "text/plain": [
       "['../model_files/nn_model_RPB.joblib']"
      ]
     },
     "execution_count": 22,
     "metadata": {},
     "output_type": "execute_result"
    }
   ],
   "source": [
    "# saving the model\n",
    "dump(nn_model, data_path/f'nn_model_{site}.joblib')\n",
    "dump(nn_model, f'../model_files/nn_model_{site}.joblib')"
   ]
  },
  {
   "cell_type": "markdown",
   "metadata": {},
   "source": [
    "### Confusion Matrix"
   ]
  },
  {
   "cell_type": "code",
   "execution_count": 23,
   "metadata": {},
   "outputs": [
    {
     "data": {
      "text/plain": [
       "Text(0.5, 1.0, 'Ragged Point, Barbados')"
      ]
     },
     "execution_count": 23,
     "metadata": {},
     "output_type": "execute_result"
    },
    {
     "data": {
      "image/png": "[encoded data removed]",
      "text/plain": [
       "<Figure size 600x600 with 2 Axes>"
      ]
     },
     "metadata": {},
     "output_type": "display_data"
    }
   ],
   "source": [
    "# creating a confusion matrix\n",
    "conf_matrix = pd.crosstab(y_test, y_pred_test, rownames=['Actual'], colnames=['Predicted'])\n",
    "\n",
    "conf_matrix.columns = ['Non-Baseline', 'Baseline']\n",
    "conf_matrix.index = ['Non-Baseline', 'Baseline']\n",
    "\n",
    "fig, ax = plt.subplots(figsize=(6, 6))\n",
    "\n",
    "sns.heatmap(conf_matrix, annot=True, fmt='d', cmap='BuPu', cbar=True, ax=ax)\n",
    "\n",
    "ax.set_xlabel('Predicted')\n",
    "ax.set_ylabel('Actual')\n",
    "\n",
    "ax.set_title(f'{site_name}')"
   ]
  },
  {
   "cell_type": "markdown",
   "metadata": {},
   "source": [
    "### Assessing Feature Importance"
   ]
  },
  {
   "cell_type": "code",
   "execution_count": 24,
   "metadata": {},
   "outputs": [],
   "source": [
    "# grouping features by category i.e. x-wind, y-wind, temporal etc.\n",
    "u_features = [col for col in data.columns if 'u' in col]\n",
    "v_features = [col for col in data.columns if 'v' in col]\n",
    "temporal_features = ['day_of_year', 'time_of_day']\n",
    "sp = ['sp']\n",
    "blh = ['blh']\n",
    "\n",
    "groups = [u_features, v_features, temporal_features, sp, blh]"
   ]
  },
  {
   "cell_type": "code",
   "execution_count": 25,
   "metadata": {},
   "outputs": [],
   "source": [
    "original_score = accuracy_score(y_train, nn_model.predict(X_train))\n",
    "importances = {}\n",
    "\n",
    "for group in groups:\n",
    "    scores_diff = []\n",
    "    for _ in range(100):\n",
    "        X_train_permuted = f.permute_group(X_train, group)\n",
    "        \n",
    "        permuted_score = accuracy_score(y_train, nn_model.predict(X_train_permuted))\n",
    "        scores_diff.append(original_score - permuted_score)\n",
    "    \n",
    "    importances[str(group)] = np.mean(scores_diff)\n",
    "\n",
    "# Sort groups by importance\n",
    "sorted_importances = sorted(importances.items(), key=lambda x: x[1], reverse=False)"
   ]
  },
  {
   "cell_type": "code",
   "execution_count": 26,
   "metadata": {},
   "outputs": [],
   "source": [
    "# matching the group names to the sorted importances\n",
    "n = len(groups)\n",
    "group_names_sorted = []\n",
    "\n",
    "for i in range(n):\n",
    "    name = sorted_importances[i][0]\n",
    "\n",
    "    if 'u10_0' in name:\n",
    "        group_names_sorted.append('u-wind')\n",
    "\n",
    "    elif 'v10_0' in name:\n",
    "        group_names_sorted.append('v-wind')\n",
    "\n",
    "    elif 'day_of_year' in name:\n",
    "        group_names_sorted.append('temporal')\n",
    "\n",
    "    elif 'sp' in name:\n",
    "        group_names_sorted.append('sp')\n",
    "\n",
    "    elif 'blh' in name:\n",
    "        group_names_sorted.append('blh')"
   ]
  },
  {
   "cell_type": "code",
   "execution_count": 27,
   "metadata": {},
   "outputs": [
    {
     "data": {
      "text/plain": [
       "Text(0, 0.5, 'Feature Group')"
      ]
     },
     "execution_count": 27,
     "metadata": {},
     "output_type": "execute_result"
    },
    {
     "data": {
      "image/png": "[encoded data removed]",
      "text/plain": [
       "<Figure size 1200x800 with 1 Axes>"
      ]
     },
     "metadata": {},
     "output_type": "display_data"
    }
   ],
   "source": [
    "# Plotting the importances of the groups\n",
    "fig, ax = plt.subplots(figsize=(12, 8))\n",
    "sns.set_theme(style='ticks', font='Arial')\n",
    "\n",
    "ax.barh(group_names_sorted, [importance for _, importance in sorted_importances], color='#FF620E')\n",
    "\n",
    "ax.set_xlabel('Importance', fontsize=12, fontstyle='italic')\n",
    "ax.set_ylabel('Feature Group', fontsize=12, fontstyle='italic')\n",
    "# ax.set_title('Permutation Importances', fontsize=14)"
   ]
  }
 ],
 "metadata": {
  "kernelspec": {
   "display_name": "venv",
   "language": "python",
   "name": "python3"
  },
  "language_info": {
   "codemirror_mode": {
    "name": "ipython",
    "version": 3
   },
   "file_extension": ".py",
   "mimetype": "text/x-python",
   "name": "python",
   "nbconvert_exporter": "python",
   "pygments_lexer": "ipython3",
   "version": "3.11.9"
  }
 },
 "nbformat": 4,
 "nbformat_minor": 2
}
