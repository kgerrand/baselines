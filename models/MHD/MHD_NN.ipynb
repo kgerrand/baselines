{
 "cells": [
  {
   "cell_type": "markdown",
   "metadata": {},
   "source": [
    "# Neural Network Final Model - Mace Head, Ireland"
   ]
  },
  {
   "cell_type": "code",
   "execution_count": 2,
   "metadata": {},
   "outputs": [],
   "source": [
    "import pandas as pd\n",
    "import numpy as np\n",
    "from joblib import dump\n",
    "from pathlib import Path\n",
    "import matplotlib.pyplot as plt\n",
    "import seaborn as sns\n",
    "\n",
    "from sklearn.neural_network import MLPClassifier\n",
    "from sklearn.metrics import precision_score, recall_score, f1_score, accuracy_score\n",
    "\n",
    "import sys\n",
    "sys.path.append('../../')\n",
    "import config as cfg\n",
    "import functions as f\n",
    "\n",
    "data_path = Path.home()/'OneDrive'/'Kirstin'/'Uni'/'Year4'/'MSciProject'/'data_files'/'saved_files'"
   ]
  },
  {
   "cell_type": "code",
   "execution_count": 3,
   "metadata": {},
   "outputs": [
    {
     "name": "stdout",
     "output_type": "stream",
     "text": [
      "Creating a neural network model for \u001b[1mMace Head, Ireland\u001b[0;0m.\n"
     ]
    }
   ],
   "source": [
    "site = cfg.site\n",
    "site_name = cfg.site_dict[site]\n",
    "assert site == 'MHD', 'This script is only for Mace Head, Ireland. The site can be changed in the config file.'\n",
    "\n",
    "compound = cfg.compound\n",
    "\n",
    "print(f\"Creating a neural network model for \\033[1m{site_name}\\033[0;0m.\")"
   ]
  },
  {
   "cell_type": "markdown",
   "metadata": {},
   "source": [
    "### Loading & Initialising Data"
   ]
  },
  {
   "cell_type": "code",
   "execution_count": 4,
   "metadata": {},
   "outputs": [
    {
     "data": {
      "text/html": [
       "<div>\n",
       "<style scoped>\n",
       "    .dataframe tbody tr th:only-of-type {\n",
       "        vertical-align: middle;\n",
       "    }\n",
       "\n",
       "    .dataframe tbody tr th {\n",
       "        vertical-align: top;\n",
       "    }\n",
       "\n",
       "    .dataframe thead th {\n",
       "        text-align: right;\n",
       "    }\n",
       "</style>\n",
       "<table border=\"1\" class=\"dataframe\">\n",
       "  <thead>\n",
       "    <tr style=\"text-align: right;\">\n",
       "      <th></th>\n",
       "      <th>time</th>\n",
       "      <th>flag</th>\n",
       "      <th>u10_0</th>\n",
       "      <th>u10_1</th>\n",
       "      <th>u10_2</th>\n",
       "      <th>u10_3</th>\n",
       "      <th>u10_4</th>\n",
       "      <th>u10_5</th>\n",
       "      <th>u10_6</th>\n",
       "      <th>u10_7</th>\n",
       "      <th>...</th>\n",
       "      <th>v500_7_past</th>\n",
       "      <th>v500_8_past</th>\n",
       "      <th>v500_9_past</th>\n",
       "      <th>v500_10_past</th>\n",
       "      <th>v500_11_past</th>\n",
       "      <th>v500_12_past</th>\n",
       "      <th>v500_13_past</th>\n",
       "      <th>v500_14_past</th>\n",
       "      <th>v500_15_past</th>\n",
       "      <th>v500_16_past</th>\n",
       "    </tr>\n",
       "  </thead>\n",
       "  <tbody>\n",
       "    <tr>\n",
       "      <th>34986</th>\n",
       "      <td>2014-09-02 13:00:00</td>\n",
       "      <td>0.0</td>\n",
       "      <td>-0.277397</td>\n",
       "      <td>4.953193</td>\n",
       "      <td>4.235016</td>\n",
       "      <td>-2.178157</td>\n",
       "      <td>-1.260548</td>\n",
       "      <td>-6.404307</td>\n",
       "      <td>-2.500832</td>\n",
       "      <td>3.543169</td>\n",
       "      <td>...</td>\n",
       "      <td>2.207781</td>\n",
       "      <td>5.622525</td>\n",
       "      <td>11.690164</td>\n",
       "      <td>13.722715</td>\n",
       "      <td>-4.072833</td>\n",
       "      <td>-9.252837</td>\n",
       "      <td>3.985906</td>\n",
       "      <td>0.654065</td>\n",
       "      <td>4.440443</td>\n",
       "      <td>7.406368</td>\n",
       "    </tr>\n",
       "    <tr>\n",
       "      <th>41141</th>\n",
       "      <td>2018-12-22 15:00:00</td>\n",
       "      <td>1.0</td>\n",
       "      <td>5.504238</td>\n",
       "      <td>4.250927</td>\n",
       "      <td>2.911752</td>\n",
       "      <td>7.906960</td>\n",
       "      <td>5.208407</td>\n",
       "      <td>2.245772</td>\n",
       "      <td>4.027971</td>\n",
       "      <td>-0.607189</td>\n",
       "      <td>...</td>\n",
       "      <td>5.132125</td>\n",
       "      <td>-2.776747</td>\n",
       "      <td>-3.639781</td>\n",
       "      <td>-1.209299</td>\n",
       "      <td>-6.677456</td>\n",
       "      <td>-5.016201</td>\n",
       "      <td>4.961565</td>\n",
       "      <td>17.794506</td>\n",
       "      <td>10.364909</td>\n",
       "      <td>-6.662106</td>\n",
       "    </tr>\n",
       "    <tr>\n",
       "      <th>43659</th>\n",
       "      <td>2020-11-30 05:00:00</td>\n",
       "      <td>1.0</td>\n",
       "      <td>7.296004</td>\n",
       "      <td>7.049423</td>\n",
       "      <td>5.996040</td>\n",
       "      <td>7.559350</td>\n",
       "      <td>-4.954812</td>\n",
       "      <td>-5.547863</td>\n",
       "      <td>-5.762312</td>\n",
       "      <td>9.617917</td>\n",
       "      <td>...</td>\n",
       "      <td>7.530505</td>\n",
       "      <td>22.136774</td>\n",
       "      <td>25.236847</td>\n",
       "      <td>15.089675</td>\n",
       "      <td>-14.020445</td>\n",
       "      <td>7.512624</td>\n",
       "      <td>-5.337966</td>\n",
       "      <td>-8.335624</td>\n",
       "      <td>19.007440</td>\n",
       "      <td>22.297710</td>\n",
       "    </tr>\n",
       "    <tr>\n",
       "      <th>8253</th>\n",
       "      <td>1994-07-03 19:00:00</td>\n",
       "      <td>1.0</td>\n",
       "      <td>2.890639</td>\n",
       "      <td>-4.904061</td>\n",
       "      <td>-3.707498</td>\n",
       "      <td>-0.684305</td>\n",
       "      <td>-1.083499</td>\n",
       "      <td>3.697163</td>\n",
       "      <td>7.260411</td>\n",
       "      <td>3.534943</td>\n",
       "      <td>...</td>\n",
       "      <td>19.158192</td>\n",
       "      <td>15.012890</td>\n",
       "      <td>11.459774</td>\n",
       "      <td>2.170849</td>\n",
       "      <td>13.946501</td>\n",
       "      <td>10.185780</td>\n",
       "      <td>15.297638</td>\n",
       "      <td>-8.594004</td>\n",
       "      <td>-8.888962</td>\n",
       "      <td>10.220948</td>\n",
       "    </tr>\n",
       "    <tr>\n",
       "      <th>2437</th>\n",
       "      <td>1990-04-25 21:00:00</td>\n",
       "      <td>1.0</td>\n",
       "      <td>6.612577</td>\n",
       "      <td>16.865292</td>\n",
       "      <td>9.071711</td>\n",
       "      <td>4.157116</td>\n",
       "      <td>0.916421</td>\n",
       "      <td>2.803307</td>\n",
       "      <td>5.171861</td>\n",
       "      <td>9.098640</td>\n",
       "      <td>...</td>\n",
       "      <td>-2.141576</td>\n",
       "      <td>23.442982</td>\n",
       "      <td>31.495853</td>\n",
       "      <td>20.353436</td>\n",
       "      <td>-8.813770</td>\n",
       "      <td>-0.322769</td>\n",
       "      <td>-16.058283</td>\n",
       "      <td>-18.185884</td>\n",
       "      <td>2.354516</td>\n",
       "      <td>3.263112</td>\n",
       "    </tr>\n",
       "  </tbody>\n",
       "</table>\n",
       "<p>5 rows × 210 columns</p>\n",
       "</div>"
      ],
      "text/plain": [
       "                     time  flag     u10_0      u10_1     u10_2     u10_3  \\\n",
       "34986 2014-09-02 13:00:00   0.0 -0.277397   4.953193  4.235016 -2.178157   \n",
       "41141 2018-12-22 15:00:00   1.0  5.504238   4.250927  2.911752  7.906960   \n",
       "43659 2020-11-30 05:00:00   1.0  7.296004   7.049423  5.996040  7.559350   \n",
       "8253  1994-07-03 19:00:00   1.0  2.890639  -4.904061 -3.707498 -0.684305   \n",
       "2437  1990-04-25 21:00:00   1.0  6.612577  16.865292  9.071711  4.157116   \n",
       "\n",
       "          u10_4     u10_5     u10_6     u10_7  ...  v500_7_past  v500_8_past  \\\n",
       "34986 -1.260548 -6.404307 -2.500832  3.543169  ...     2.207781     5.622525   \n",
       "41141  5.208407  2.245772  4.027971 -0.607189  ...     5.132125    -2.776747   \n",
       "43659 -4.954812 -5.547863 -5.762312  9.617917  ...     7.530505    22.136774   \n",
       "8253  -1.083499  3.697163  7.260411  3.534943  ...    19.158192    15.012890   \n",
       "2437   0.916421  2.803307  5.171861  9.098640  ...    -2.141576    23.442982   \n",
       "\n",
       "       v500_9_past  v500_10_past  v500_11_past  v500_12_past  v500_13_past  \\\n",
       "34986    11.690164     13.722715     -4.072833     -9.252837      3.985906   \n",
       "41141    -3.639781     -1.209299     -6.677456     -5.016201      4.961565   \n",
       "43659    25.236847     15.089675    -14.020445      7.512624     -5.337966   \n",
       "8253     11.459774      2.170849     13.946501     10.185780     15.297638   \n",
       "2437     31.495853     20.353436     -8.813770     -0.322769    -16.058283   \n",
       "\n",
       "       v500_14_past  v500_15_past  v500_16_past  \n",
       "34986      0.654065      4.440443      7.406368  \n",
       "41141     17.794506     10.364909     -6.662106  \n",
       "43659     -8.335624     19.007440     22.297710  \n",
       "8253      -8.594004     -8.888962     10.220948  \n",
       "2437     -18.185884      2.354516      3.263112  \n",
       "\n",
       "[5 rows x 210 columns]"
      ]
     },
     "execution_count": 4,
     "metadata": {},
     "output_type": "execute_result"
    }
   ],
   "source": [
    "data = pd.read_csv(data_path/f'for_model_{compound}_{site}.csv', parse_dates=['time'])\n",
    "data.sample(5)"
   ]
  },
  {
   "cell_type": "code",
   "execution_count": 5,
   "metadata": {},
   "outputs": [
    {
     "name": "stdout",
     "output_type": "stream",
     "text": [
      "Train range: 2018-01-01 01:00:00 -> 2018-12-31 01:00:00. Length: 1354\n",
      "Val range: 2019-01-04 05:00:00 -> 2019-12-30 13:00:00. Length: 1067\n",
      "Test range: 1989-02-04 13:00:00 -> 2022-12-31 19:00:00. Length: 43784\n"
     ]
    }
   ],
   "source": [
    "train_data = data[(data['time'].dt.year >= 2018) & (data['time'].dt.year <= 2018)]\n",
    "val_data = data[(data['time'].dt.year >= 2019) & (data['time'].dt.year <= 2019)]\n",
    "# testing set is all remaining datapoints\n",
    "test_data = data[~data.index.isin(train_data.index) & ~data.index.isin(val_data.index)]\n",
    "\n",
    "print(f\"Train range: {train_data['time'].min()} -> {train_data['time'].max()}. Length: {len(train_data)}\")\n",
    "print(f\"Val range: {val_data['time'].min()} -> {val_data['time'].max()}. Length: {len(val_data)}\")\n",
    "print(f\"Test range: {test_data['time'].min()} -> {test_data['time'].max()}. Length: {len(test_data)}\")\n",
    "\n",
    "\n",
    "# Drop the \"time\" column as it won't be used in the model\n",
    "train_data = train_data.drop(columns=['time'])\n",
    "val_data = val_data.drop(columns=['time'])\n",
    "test_data = test_data.drop(columns=['time'])\n",
    "\n",
    "# Define the features (X) and the target (y)\n",
    "X_train = train_data.drop(columns=['flag'])\n",
    "y_train = train_data['flag']\n",
    "X_val = val_data.drop(columns=['flag'])\n",
    "y_val = val_data['flag']\n",
    "X_test = test_data.drop(columns=['flag'])\n",
    "y_test = test_data['flag']\n",
    "\n",
    "# Balanced Data - removing NaN values and associated data\n",
    "y_train = y_train.dropna()\n",
    "y_val = y_val.dropna()\n",
    "y_test = y_test.dropna()\n",
    "\n",
    "# aligning indices of features sets\n",
    "X_train = X_train.loc[y_train.index]\n",
    "X_val = X_val.loc[y_val.index]\n",
    "X_test = X_test.loc[y_test.index]"
   ]
  },
  {
   "cell_type": "markdown",
   "metadata": {},
   "source": [
    "### Model"
   ]
  },
  {
   "cell_type": "code",
   "execution_count": 6,
   "metadata": {},
   "outputs": [
    {
     "name": "stdout",
     "output_type": "stream",
     "text": [
      "Precision on Training Set = 0.921\n",
      "Precision on Validation Set = 0.865\n",
      "Recall on Training Set = 0.850\n",
      "Recall on Validation Set = 0.846\n",
      "F1 Score on Training Set = 0.884\n",
      "F1 Score on Validation Set = 0.855\n",
      "Misclassification Rate on Training Set = 0.179\n",
      "Misclassification Rate on Validation Set = 0.204\n"
     ]
    }
   ],
   "source": [
    "nn_model = MLPClassifier(random_state=42,\n",
    "                         max_iter=1000, \n",
    "                         hidden_layer_sizes=(200,150,), \n",
    "                         shuffle=False,\n",
    "                         activation='relu', \n",
    "                         solver='adam', \n",
    "                         alpha=0.05, \n",
    "                         learning_rate='constant', \n",
    "                         batch_size=100, \n",
    "                         early_stopping=True,\n",
    "                         learning_rate_init=0.01,\n",
    "                         beta_2=0.9,)\n",
    "\n",
    "nn_model.fit(X_train, y_train)\n",
    "\n",
    "class_probabilities_val = nn_model.predict_proba(X_val)\n",
    "class_probabilities_train = nn_model.predict_proba(X_train)\n",
    "\n",
    "confidence_threshold = cfg.confidence_threshold\n",
    "\n",
    "y_pred_val = (class_probabilities_val[:,1] > confidence_threshold).astype(int)\n",
    "y_pred_train = (class_probabilities_train[:,1] > confidence_threshold).astype(int)\n",
    "\n",
    "precision_val = precision_score(y_val, y_pred_val)\n",
    "precision_train = precision_score(y_train, y_pred_train)\n",
    "recall_val = recall_score(y_val, y_pred_val)\n",
    "recall_train = recall_score(y_train, y_pred_train)\n",
    "f1_val = f1_score(y_val, y_pred_val)\n",
    "f1_train = f1_score(y_train, y_pred_train)\n",
    "misclassification_rate_val = 1 - accuracy_score(y_val, y_pred_val)\n",
    "misclassification_rate_train = 1 - accuracy_score(y_train, y_pred_train)\n",
    "\n",
    "\n",
    "print(f\"Precision on Training Set = {precision_train:.3f}\")\n",
    "print(f\"Precision on Validation Set = {precision_val:.3f}\")\n",
    "print(f\"Recall on Training Set = {recall_train:.3f}\")\n",
    "print(f\"Recall on Validation Set = {recall_val:.3f}\")\n",
    "print(f\"F1 Score on Training Set = {f1_train:.3f}\")\n",
    "print(f\"F1 Score on Validation Set = {f1_val:.3f}\")\n",
    "print(f\"Misclassification Rate on Training Set = {misclassification_rate_train:.3f}\")\n",
    "print(f\"Misclassification Rate on Validation Set = {misclassification_rate_val:.3f}\")"
   ]
  },
  {
   "cell_type": "code",
   "execution_count": 7,
   "metadata": {},
   "outputs": [
    {
     "name": "stdout",
     "output_type": "stream",
     "text": [
      "Precision on Testing Set = 0.902\n",
      "Recall on Testing Set = 0.769\n",
      "F1 Score on Testing Set = 0.831\n",
      "Misclassification Rate on Testing Set = 0.252\n"
     ]
    }
   ],
   "source": [
    "class_probabilities_test = nn_model.predict_proba(X_test)\n",
    "\n",
    "y_pred_test = (class_probabilities_test[:,1] > confidence_threshold).astype(int)\n",
    "\n",
    "precision_test = precision_score(y_test, y_pred_test)\n",
    "recall_test = recall_score(y_test, y_pred_test)\n",
    "f1_test = f1_score(y_test, y_pred_test)\n",
    "misclassification_rate_test = 1 - accuracy_score(y_test, y_pred_test)\n",
    "\n",
    "print(f\"Precision on Testing Set = {precision_test:.3f}\")\n",
    "print(f\"Recall on Testing Set = {recall_test:.3f}\")\n",
    "print(f\"F1 Score on Testing Set = {f1_test:.3f}\")\n",
    "print(f\"Misclassification Rate on Testing Set = {misclassification_rate_test:.3f}\")"
   ]
  },
  {
   "cell_type": "code",
   "execution_count": 7,
   "metadata": {},
   "outputs": [
    {
     "data": {
      "text/plain": [
       "['../model_files/nn_model_MHD.joblib']"
      ]
     },
     "execution_count": 7,
     "metadata": {},
     "output_type": "execute_result"
    }
   ],
   "source": [
    "# saving the model\n",
    "dump(nn_model, f'../model_files/nn_model_{site}.joblib')"
   ]
  },
  {
   "cell_type": "markdown",
   "metadata": {},
   "source": [
    "### Confusion Matrix"
   ]
  },
  {
   "cell_type": "code",
   "execution_count": 9,
   "metadata": {},
   "outputs": [
    {
     "data": {
      "text/plain": [
       "Text(0.5, 1.0, 'Mace Head, Ireland')"
      ]
     },
     "execution_count": 9,
     "metadata": {},
     "output_type": "execute_result"
    },
    {
     "data": {
      "image/png": "[encoded data removed]",
      "text/plain": [
       "<Figure size 640x480 with 1 Axes>"
      ]
     },
     "metadata": {},
     "output_type": "display_data"
    }
   ],
   "source": [
    "# creating a confusion matrix - large size\n",
    "conf_matrix = pd.crosstab(y_test, y_pred_test, rownames=['Actual'], colnames=['Predicted'])\n",
    "# renaming the columns\n",
    "conf_matrix.columns = ['Non-Baseline', 'Baseline']\n",
    "conf_matrix.index = ['Non-Baseline', 'Baseline']\n",
    "sns.heatmap(conf_matrix, annot=True, fmt='d', cmap='BuPu', cbar=False)\n",
    "# increasing the font size of the labels\n",
    "plt.xticks(fontsize=15)\n",
    "plt.yticks(fontsize=15)\n",
    "plt.xlabel('Predicted', fontsize=20)\n",
    "plt.ylabel('Actual', fontsize=20)\n",
    "# increasing size of annotation\n",
    "for t in plt.gca().texts:\n",
    "    t.set_text(f\"{int(t.get_text()):,}\")\n",
    "    t.set_fontsize(25)\n",
    "plt.title(f'{site_name}', fontsize=25)"
   ]
  },
  {
   "cell_type": "code",
   "execution_count": 8,
   "metadata": {},
   "outputs": [
    {
     "data": {
      "text/plain": [
       "Text(0.5, 1.0, 'Mace Head, Ireland')"
      ]
     },
     "execution_count": 8,
     "metadata": {},
     "output_type": "execute_result"
    },
    {
     "data": {
      "image/png": "[encoded data removed]",
      "text/plain": [
       "<Figure size 600x600 with 2 Axes>"
      ]
     },
     "metadata": {},
     "output_type": "display_data"
    }
   ],
   "source": [
    "# creating a confusion matrix\n",
    "conf_matrix = pd.crosstab(y_test, y_pred_test, rownames=['Actual'], colnames=['Predicted'])\n",
    "\n",
    "conf_matrix.columns = ['Non-Baseline', 'Baseline']\n",
    "conf_matrix.index = ['Non-Baseline', 'Baseline']\n",
    "\n",
    "fig, ax = plt.subplots(figsize=(6, 6))\n",
    "\n",
    "sns.heatmap(conf_matrix, annot=True, fmt='d', cmap='BuPu', cbar=True, ax=ax)\n",
    "\n",
    "ax.set_xlabel('Predicted')\n",
    "ax.set_ylabel('Actual')\n",
    "\n",
    "ax.set_title(f'{site_name}')"
   ]
  },
  {
   "cell_type": "markdown",
   "metadata": {},
   "source": [
    "### Assessing Feature Importance"
   ]
  },
  {
   "cell_type": "code",
   "execution_count": 9,
   "metadata": {},
   "outputs": [],
   "source": [
    "# grouping features by category i.e. x-wind, y-wind, temporal etc.\n",
    "u_features = [col for col in data.columns if 'u' in col]\n",
    "v_features = [col for col in data.columns if 'v' in col]\n",
    "temporal_features = ['day_of_year', 'time_of_day']\n",
    "sp = ['sp']\n",
    "blh = ['blh']\n",
    "\n",
    "groups = [u_features, v_features, temporal_features, sp, blh]"
   ]
  },
  {
   "cell_type": "code",
   "execution_count": 10,
   "metadata": {},
   "outputs": [],
   "source": [
    "original_score = accuracy_score(y_train, nn_model.predict(X_train))\n",
    "importances = {}\n",
    "\n",
    "for group in groups:\n",
    "    scores_diff = []\n",
    "    for _ in range(100):\n",
    "        X_train_permuted = f.permute_group(X_train, group)\n",
    "        \n",
    "        permuted_score = accuracy_score(y_train, nn_model.predict(X_train_permuted))\n",
    "        scores_diff.append(original_score - permuted_score)\n",
    "    \n",
    "    importances[str(group)] = np.mean(scores_diff)\n",
    "\n",
    "# Sort groups by importance\n",
    "sorted_importances = sorted(importances.items(), key=lambda x: x[1], reverse=False)"
   ]
  },
  {
   "cell_type": "code",
   "execution_count": 11,
   "metadata": {},
   "outputs": [],
   "source": [
    "# matching the group names to the sorted importances\n",
    "n = len(groups)\n",
    "group_names_sorted = []\n",
    "\n",
    "for i in range(n):\n",
    "    name = sorted_importances[i][0]\n",
    "\n",
    "    if 'u10_0' in name:\n",
    "        group_names_sorted.append('u-wind')\n",
    "\n",
    "    elif 'v10_0' in name:\n",
    "        group_names_sorted.append('v-wind')\n",
    "\n",
    "    elif 'day_of_year' in name:\n",
    "        group_names_sorted.append('temporal')\n",
    "\n",
    "    elif 'sp' in name:\n",
    "        group_names_sorted.append('sp')\n",
    "\n",
    "    elif 'blh' in name:\n",
    "        group_names_sorted.append('blh')"
   ]
  },
  {
   "cell_type": "code",
   "execution_count": 12,
   "metadata": {},
   "outputs": [
    {
     "data": {
      "text/plain": [
       "Text(0, 0.5, 'Feature Group')"
      ]
     },
     "execution_count": 12,
     "metadata": {},
     "output_type": "execute_result"
    },
    {
     "data": {
      "image/png": "[encoded data removed]",
      "text/plain": [
       "<Figure size 1200x800 with 1 Axes>"
      ]
     },
     "metadata": {},
     "output_type": "display_data"
    }
   ],
   "source": [
    "# Plotting the importances of the groups\n",
    "fig, ax = plt.subplots(figsize=(12, 8))\n",
    "sns.set_theme(style='ticks', font='Arial')\n",
    "\n",
    "ax.barh(group_names_sorted, [importance for _, importance in sorted_importances], color='#FF620E')\n",
    "\n",
    "ax.set_xlabel('Importance', fontsize=12, fontstyle='italic')\n",
    "ax.set_ylabel('Feature Group', fontsize=12, fontstyle='italic')\n",
    "# ax.set_title('Permutation Importances', fontsize=14)"
   ]
  }
 ],
 "metadata": {
  "kernelspec": {
   "display_name": "venv",
   "language": "python",
   "name": "python3"
  },
  "language_info": {
   "codemirror_mode": {
    "name": "ipython",
    "version": 3
   },
   "file_extension": ".py",
   "mimetype": "text/x-python",
   "name": "python",
   "nbconvert_exporter": "python",
   "pygments_lexer": "ipython3",
   "version": "3.11.9"
  }
 },
 "nbformat": 4,
 "nbformat_minor": 2
}
