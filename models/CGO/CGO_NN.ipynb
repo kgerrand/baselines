{
 "cells": [
  {
   "cell_type": "markdown",
   "metadata": {},
   "source": [
    "# Neural Network Final Model - Cape Grim, Australia"
   ]
  },
  {
   "cell_type": "code",
   "execution_count": 1,
   "metadata": {},
   "outputs": [],
   "source": [
    "import pandas as pd\n",
    "import numpy as np\n",
    "from joblib import dump\n",
    "from pathlib import Path\n",
    "import matplotlib.pyplot as plt\n",
    "import seaborn as sns\n",
    "\n",
    "from sklearn.neural_network import MLPClassifier\n",
    "from sklearn.metrics import precision_score, recall_score, f1_score, accuracy_score\n",
    "\n",
    "import sys\n",
    "sys.path.append('../../')\n",
    "import config as cfg\n",
    "import functions as f\n",
    "\n",
    "data_path = Path.home()/'OneDrive'/'Kirstin'/'Uni'/'Year4'/'MSciProject'/'data_files'/'saved_files'"
   ]
  },
  {
   "cell_type": "code",
   "execution_count": 2,
   "metadata": {},
   "outputs": [
    {
     "name": "stdout",
     "output_type": "stream",
     "text": [
      "Creating a neural network model for \u001b[1mCape Grim, Australia\u001b[0;0m.\n"
     ]
    }
   ],
   "source": [
    "site = cfg.site\n",
    "site_name = cfg.site_dict[site]\n",
    "assert site == 'CGO', 'This script is only for Cape Grim, Australia. The site can be changed in the config file.'\n",
    "\n",
    "compound = cfg.compound\n",
    "\n",
    "print(f\"Creating a neural network model for \\033[1m{site_name}\\033[0;0m.\")"
   ]
  },
  {
   "cell_type": "markdown",
   "metadata": {},
   "source": [
    "### Loading & Initialising Data"
   ]
  },
  {
   "cell_type": "code",
   "execution_count": 3,
   "metadata": {},
   "outputs": [
    {
     "data": {
      "text/html": [
       "<div>\n",
       "<style scoped>\n",
       "    .dataframe tbody tr th:only-of-type {\n",
       "        vertical-align: middle;\n",
       "    }\n",
       "\n",
       "    .dataframe tbody tr th {\n",
       "        vertical-align: top;\n",
       "    }\n",
       "\n",
       "    .dataframe thead th {\n",
       "        text-align: right;\n",
       "    }\n",
       "</style>\n",
       "<table border=\"1\" class=\"dataframe\">\n",
       "  <thead>\n",
       "    <tr style=\"text-align: right;\">\n",
       "      <th></th>\n",
       "      <th>time</th>\n",
       "      <th>flag</th>\n",
       "      <th>u10_0</th>\n",
       "      <th>u10_1</th>\n",
       "      <th>u10_2</th>\n",
       "      <th>u10_3</th>\n",
       "      <th>u10_4</th>\n",
       "      <th>u10_5</th>\n",
       "      <th>u10_6</th>\n",
       "      <th>u10_7</th>\n",
       "      <th>...</th>\n",
       "      <th>v500_7_past</th>\n",
       "      <th>v500_8_past</th>\n",
       "      <th>v500_9_past</th>\n",
       "      <th>v500_10_past</th>\n",
       "      <th>v500_11_past</th>\n",
       "      <th>v500_12_past</th>\n",
       "      <th>v500_13_past</th>\n",
       "      <th>v500_14_past</th>\n",
       "      <th>v500_15_past</th>\n",
       "      <th>v500_16_past</th>\n",
       "    </tr>\n",
       "  </thead>\n",
       "  <tbody>\n",
       "    <tr>\n",
       "      <th>32487</th>\n",
       "      <td>2020-04-24 15:00:00</td>\n",
       "      <td>1.0</td>\n",
       "      <td>7.114488</td>\n",
       "      <td>1.447479</td>\n",
       "      <td>1.297571</td>\n",
       "      <td>11.786820</td>\n",
       "      <td>12.761221</td>\n",
       "      <td>10.718420</td>\n",
       "      <td>10.182069</td>\n",
       "      <td>8.144796</td>\n",
       "      <td>...</td>\n",
       "      <td>-3.924916</td>\n",
       "      <td>0.024155</td>\n",
       "      <td>2.956265</td>\n",
       "      <td>19.079163</td>\n",
       "      <td>16.317783</td>\n",
       "      <td>-24.214008</td>\n",
       "      <td>5.441137</td>\n",
       "      <td>-4.010281</td>\n",
       "      <td>-11.399942</td>\n",
       "      <td>0.655115</td>\n",
       "    </tr>\n",
       "    <tr>\n",
       "      <th>28839</th>\n",
       "      <td>2018-06-17 17:00:00</td>\n",
       "      <td>0.0</td>\n",
       "      <td>0.867454</td>\n",
       "      <td>2.901266</td>\n",
       "      <td>2.471687</td>\n",
       "      <td>-2.447451</td>\n",
       "      <td>-0.616147</td>\n",
       "      <td>1.108171</td>\n",
       "      <td>3.866316</td>\n",
       "      <td>-2.135774</td>\n",
       "      <td>...</td>\n",
       "      <td>9.531856</td>\n",
       "      <td>11.013803</td>\n",
       "      <td>1.236005</td>\n",
       "      <td>-3.866784</td>\n",
       "      <td>-13.368054</td>\n",
       "      <td>-12.275691</td>\n",
       "      <td>1.833367</td>\n",
       "      <td>7.322684</td>\n",
       "      <td>16.414509</td>\n",
       "      <td>6.112681</td>\n",
       "    </tr>\n",
       "    <tr>\n",
       "      <th>37099</th>\n",
       "      <td>2022-12-22 07:00:00</td>\n",
       "      <td>0.0</td>\n",
       "      <td>-3.540372</td>\n",
       "      <td>-0.654347</td>\n",
       "      <td>1.462433</td>\n",
       "      <td>-4.755540</td>\n",
       "      <td>-2.264988</td>\n",
       "      <td>0.963346</td>\n",
       "      <td>4.591492</td>\n",
       "      <td>0.921575</td>\n",
       "      <td>...</td>\n",
       "      <td>-11.028892</td>\n",
       "      <td>-8.963907</td>\n",
       "      <td>5.545168</td>\n",
       "      <td>12.485143</td>\n",
       "      <td>11.198289</td>\n",
       "      <td>5.700192</td>\n",
       "      <td>-7.576214</td>\n",
       "      <td>-21.153639</td>\n",
       "      <td>-10.183031</td>\n",
       "      <td>-4.730087</td>\n",
       "    </tr>\n",
       "    <tr>\n",
       "      <th>26572</th>\n",
       "      <td>2017-05-02 19:00:00</td>\n",
       "      <td>1.0</td>\n",
       "      <td>4.551659</td>\n",
       "      <td>-0.001904</td>\n",
       "      <td>1.254310</td>\n",
       "      <td>5.775073</td>\n",
       "      <td>10.560544</td>\n",
       "      <td>10.816620</td>\n",
       "      <td>10.010985</td>\n",
       "      <td>5.261768</td>\n",
       "      <td>...</td>\n",
       "      <td>10.486994</td>\n",
       "      <td>8.282192</td>\n",
       "      <td>-1.045109</td>\n",
       "      <td>-10.703513</td>\n",
       "      <td>-3.237704</td>\n",
       "      <td>11.516919</td>\n",
       "      <td>22.377665</td>\n",
       "      <td>6.025514</td>\n",
       "      <td>2.026355</td>\n",
       "      <td>5.035260</td>\n",
       "    </tr>\n",
       "    <tr>\n",
       "      <th>8607</th>\n",
       "      <td>2007-05-19 15:00:00</td>\n",
       "      <td>1.0</td>\n",
       "      <td>11.215084</td>\n",
       "      <td>2.788129</td>\n",
       "      <td>4.353982</td>\n",
       "      <td>15.668484</td>\n",
       "      <td>13.305241</td>\n",
       "      <td>8.274612</td>\n",
       "      <td>7.339616</td>\n",
       "      <td>12.549480</td>\n",
       "      <td>...</td>\n",
       "      <td>29.905468</td>\n",
       "      <td>0.874846</td>\n",
       "      <td>0.743354</td>\n",
       "      <td>-5.045562</td>\n",
       "      <td>-0.467675</td>\n",
       "      <td>-6.045555</td>\n",
       "      <td>-9.228972</td>\n",
       "      <td>-10.323119</td>\n",
       "      <td>4.895920</td>\n",
       "      <td>-2.980643</td>\n",
       "    </tr>\n",
       "  </tbody>\n",
       "</table>\n",
       "<p>5 rows × 210 columns</p>\n",
       "</div>"
      ],
      "text/plain": [
       "                     time  flag      u10_0     u10_1     u10_2      u10_3  \\\n",
       "32487 2020-04-24 15:00:00   1.0   7.114488  1.447479  1.297571  11.786820   \n",
       "28839 2018-06-17 17:00:00   0.0   0.867454  2.901266  2.471687  -2.447451   \n",
       "37099 2022-12-22 07:00:00   0.0  -3.540372 -0.654347  1.462433  -4.755540   \n",
       "26572 2017-05-02 19:00:00   1.0   4.551659 -0.001904  1.254310   5.775073   \n",
       "8607  2007-05-19 15:00:00   1.0  11.215084  2.788129  4.353982  15.668484   \n",
       "\n",
       "           u10_4      u10_5      u10_6      u10_7  ...  v500_7_past  \\\n",
       "32487  12.761221  10.718420  10.182069   8.144796  ...    -3.924916   \n",
       "28839  -0.616147   1.108171   3.866316  -2.135774  ...     9.531856   \n",
       "37099  -2.264988   0.963346   4.591492   0.921575  ...   -11.028892   \n",
       "26572  10.560544  10.816620  10.010985   5.261768  ...    10.486994   \n",
       "8607   13.305241   8.274612   7.339616  12.549480  ...    29.905468   \n",
       "\n",
       "       v500_8_past  v500_9_past  v500_10_past  v500_11_past  v500_12_past  \\\n",
       "32487     0.024155     2.956265     19.079163     16.317783    -24.214008   \n",
       "28839    11.013803     1.236005     -3.866784    -13.368054    -12.275691   \n",
       "37099    -8.963907     5.545168     12.485143     11.198289      5.700192   \n",
       "26572     8.282192    -1.045109    -10.703513     -3.237704     11.516919   \n",
       "8607      0.874846     0.743354     -5.045562     -0.467675     -6.045555   \n",
       "\n",
       "       v500_13_past  v500_14_past  v500_15_past  v500_16_past  \n",
       "32487      5.441137     -4.010281    -11.399942      0.655115  \n",
       "28839      1.833367      7.322684     16.414509      6.112681  \n",
       "37099     -7.576214    -21.153639    -10.183031     -4.730087  \n",
       "26572     22.377665      6.025514      2.026355      5.035260  \n",
       "8607      -9.228972    -10.323119      4.895920     -2.980643  \n",
       "\n",
       "[5 rows x 210 columns]"
      ]
     },
     "execution_count": 3,
     "metadata": {},
     "output_type": "execute_result"
    }
   ],
   "source": [
    "data = pd.read_csv(data_path/f'for_model_{compound}_{site}.csv', parse_dates=['time'])\n",
    "data.sample(5)"
   ]
  },
  {
   "cell_type": "code",
   "execution_count": 4,
   "metadata": {},
   "outputs": [
    {
     "name": "stdout",
     "output_type": "stream",
     "text": [
      "Train range: 2018-01-01 01:00:00 -> 2018-12-31 21:00:00. Length: 1876\n",
      "Val range: 2019-01-01 09:00:00 -> 2019-12-31 23:00:00. Length: 2094\n",
      "Test range: 2020-01-01 01:00:00 -> 2022-12-31 07:00:00. Length: 5194\n"
     ]
    }
   ],
   "source": [
    "train_data = data[(data['time'].dt.year >= 2018) & (data['time'].dt.year <= 2018)]\n",
    "val_data = data[(data['time'].dt.year >= 2019) & (data['time'].dt.year <= 2019)]\n",
    "test_data = data[(data['time'].dt.year >= 2020) & (data['time'].dt.year <= 2023)]\n",
    "\n",
    "print(f\"Train range: {train_data['time'].min()} -> {train_data['time'].max()}. Length: {len(train_data)}\")\n",
    "print(f\"Val range: {val_data['time'].min()} -> {val_data['time'].max()}. Length: {len(val_data)}\")\n",
    "print(f\"Test range: {test_data['time'].min()} -> {test_data['time'].max()}. Length: {len(test_data)}\")\n",
    "\n",
    "\n",
    "# Drop the \"time\" column as it won't be used in the model\n",
    "train_data = train_data.drop(columns=['time'])\n",
    "val_data = val_data.drop(columns=['time'])\n",
    "test_data = test_data.drop(columns=['time'])\n",
    "\n",
    "# Define the features (X) and the target (y)\n",
    "X_train = train_data.drop(columns=['flag'])\n",
    "y_train = train_data['flag']\n",
    "X_val = val_data.drop(columns=['flag'])\n",
    "y_val = val_data['flag']\n",
    "X_test = test_data.drop(columns=['flag'])\n",
    "y_test = test_data['flag']\n",
    "\n",
    "# Balanced Data - removing NaN values and associated data\n",
    "y_train = y_train.dropna()\n",
    "y_val = y_val.dropna()\n",
    "y_test = y_test.dropna()\n",
    "\n",
    "# aligning indices of features sets\n",
    "X_train = X_train.loc[y_train.index]\n",
    "X_val = X_val.loc[y_val.index]\n",
    "X_test = X_test.loc[y_test.index]"
   ]
  },
  {
   "cell_type": "markdown",
   "metadata": {},
   "source": [
    "### Model"
   ]
  },
  {
   "cell_type": "code",
   "execution_count": 5,
   "metadata": {},
   "outputs": [
    {
     "name": "stdout",
     "output_type": "stream",
     "text": [
      "Precision on Training Set = 0.954\n",
      "Precision on Validation Set = 0.924\n",
      "Recall on Training Set = 0.979\n",
      "Recall on Validation Set = 0.975\n",
      "F1 Score on Training Set = 0.966\n",
      "F1 Score on Validation Set = 0.949\n",
      "Misclassification Rate on Training Set = 0.059\n",
      "Misclassification Rate on Validation Set = 0.092\n"
     ]
    }
   ],
   "source": [
    "nn_model = MLPClassifier(random_state=42,\n",
    "                         max_iter=1000, \n",
    "                         hidden_layer_sizes=(50,), \n",
    "                         shuffle=False,\n",
    "                         activation='relu', \n",
    "                         solver='adam', \n",
    "                         alpha=0.05, \n",
    "                         learning_rate='constant', \n",
    "                         batch_size=100, \n",
    "                         early_stopping=True,\n",
    "                         learning_rate_init=0.001,\n",
    "                         beta_2=0.9,)\n",
    "\n",
    "nn_model.fit(X_train, y_train)\n",
    "\n",
    "class_probabilities_val = nn_model.predict_proba(X_val)\n",
    "class_probabilities_train = nn_model.predict_proba(X_train)\n",
    "\n",
    "confidence_threshold = cfg.confidence_threshold\n",
    "\n",
    "y_pred_val = (class_probabilities_val[:,1] > confidence_threshold).astype(int)\n",
    "y_pred_train = (class_probabilities_train[:,1] > confidence_threshold).astype(int)\n",
    "\n",
    "\n",
    "precision_val = precision_score(y_val, y_pred_val)\n",
    "precision_train = precision_score(y_train, y_pred_train)\n",
    "recall_val = recall_score(y_val, y_pred_val)\n",
    "recall_train = recall_score(y_train, y_pred_train)\n",
    "f1_val = f1_score(y_val, y_pred_val)\n",
    "f1_train = f1_score(y_train, y_pred_train)\n",
    "misclassification_rate_val = 1 - accuracy_score(y_val, y_pred_val)\n",
    "misclassification_rate_train = 1 - accuracy_score(y_train, y_pred_train)\n",
    "\n",
    "print(f\"Precision on Training Set = {precision_train:.3f}\")\n",
    "print(f\"Precision on Validation Set = {precision_val:.3f}\")\n",
    "print(f\"Recall on Training Set = {recall_train:.3f}\")\n",
    "print(f\"Recall on Validation Set = {recall_val:.3f}\")\n",
    "print(f\"F1 Score on Training Set = {f1_train:.3f}\")\n",
    "print(f\"F1 Score on Validation Set = {f1_val:.3f}\")\n",
    "print(f\"Misclassification Rate on Training Set = {misclassification_rate_train:.3f}\")\n",
    "print(f\"Misclassification Rate on Validation Set = {misclassification_rate_val:.3f}\")"
   ]
  },
  {
   "cell_type": "code",
   "execution_count": 6,
   "metadata": {},
   "outputs": [
    {
     "name": "stdout",
     "output_type": "stream",
     "text": [
      "Precision on Testing Set = 0.938\n",
      "Recall on Testing Set = 0.961\n",
      "F1 Score on Testing Set = 0.949\n",
      "Misclassification Rate on Testing Set = 0.085\n"
     ]
    }
   ],
   "source": [
    "# evaluating model on test set\n",
    "class_probabilities_test = nn_model.predict_proba(X_test)\n",
    "\n",
    "y_pred_test = (class_probabilities_test[:,1] > confidence_threshold).astype(int)\n",
    "\n",
    "precision_test = precision_score(y_test, y_pred_test)\n",
    "recall_test = recall_score(y_test, y_pred_test)\n",
    "f1_test = f1_score(y_test, y_pred_test)\n",
    "misclassification_rate_test = 1 - accuracy_score(y_test, y_pred_test)\n",
    "\n",
    "print(f\"Precision on Testing Set = {precision_test:.3f}\")\n",
    "print(f\"Recall on Testing Set = {recall_test:.3f}\")\n",
    "print(f\"F1 Score on Testing Set = {f1_test:.3f}\")\n",
    "print(f\"Misclassification Rate on Testing Set = {misclassification_rate_test:.3f}\")"
   ]
  },
  {
   "cell_type": "code",
   "execution_count": 7,
   "metadata": {},
   "outputs": [
    {
     "data": {
      "text/plain": [
       "['../final_models/nn_model_CGO.joblib']"
      ]
     },
     "execution_count": 7,
     "metadata": {},
     "output_type": "execute_result"
    }
   ],
   "source": [
    "# saving the model\n",
    "dump(nn_model, data_path/f'nn_model_{site}.joblib')\n",
    "dump(nn_model, f'../final_models/nn_model_{site}.joblib')"
   ]
  },
  {
   "cell_type": "markdown",
   "metadata": {},
   "source": [
    "### Confusion Matrix"
   ]
  },
  {
   "cell_type": "code",
   "execution_count": 7,
   "metadata": {},
   "outputs": [
    {
     "data": {
      "text/plain": [
       "Text(0.5, 1.0, 'Cape Grim, Australia')"
      ]
     },
     "execution_count": 7,
     "metadata": {},
     "output_type": "execute_result"
    },
    {
     "data": {
      "image/png": "[encoded data removed]",
      "text/plain": [
       "<Figure size 600x600 with 1 Axes>"
      ]
     },
     "metadata": {},
     "output_type": "display_data"
    }
   ],
   "source": [
    "# creating a confusion matrix\n",
    "conf_matrix = pd.crosstab(y_test, y_pred_test, rownames=['Actual'], colnames=['Predicted'])\n",
    "\n",
    "conf_matrix.columns = ['Non-Baseline', 'Baseline']\n",
    "conf_matrix.index = ['Non-Baseline', 'Baseline']\n",
    "\n",
    "fig, ax = plt.subplots(figsize=(6, 6))\n",
    "\n",
    "sns.heatmap(conf_matrix, annot=True, fmt='d', cmap='BuPu', cbar=True, ax=ax)\n",
    "\n",
    "ax.set_xlabel('Predicted')\n",
    "ax.set_ylabel('Actual')\n",
    "\n",
    "ax.set_title(f'{site_name}')"
   ]
  },
  {
   "cell_type": "markdown",
   "metadata": {},
   "source": [
    "### Assessing Feature Importance"
   ]
  },
  {
   "cell_type": "code",
   "execution_count": 10,
   "metadata": {},
   "outputs": [],
   "source": [
    "# grouping features by category i.e. x-wind, y-wind, temporal etc.\n",
    "u_features = [col for col in data.columns if 'u' in col]\n",
    "v_features = [col for col in data.columns if 'v' in col]\n",
    "temporal_features = ['day_of_year', 'time_of_day']\n",
    "sp = ['sp']\n",
    "blh = ['blh']\n",
    "\n",
    "groups = [u_features, v_features, temporal_features, sp, blh]"
   ]
  },
  {
   "cell_type": "code",
   "execution_count": 11,
   "metadata": {},
   "outputs": [],
   "source": [
    "original_score = accuracy_score(y_train, nn_model.predict(X_train))\n",
    "importances = {}\n",
    "\n",
    "for group in groups:\n",
    "    scores_diff = []\n",
    "    for _ in range(100):\n",
    "        X_train_permuted = f.permute_group(X_train, group)\n",
    "        \n",
    "        permuted_score = accuracy_score(y_train, nn_model.predict(X_train_permuted))\n",
    "        scores_diff.append(original_score - permuted_score)\n",
    "    \n",
    "    importances[str(group)] = np.mean(scores_diff)\n",
    "\n",
    "# Sort groups by importance\n",
    "sorted_importances = sorted(importances.items(), key=lambda x: x[1], reverse=False)"
   ]
  },
  {
   "cell_type": "code",
   "execution_count": 12,
   "metadata": {},
   "outputs": [],
   "source": [
    "# matching the group names to the sorted importances\n",
    "n = len(groups)\n",
    "group_names_sorted = []\n",
    "\n",
    "for i in range(n):\n",
    "    name = sorted_importances[i][0]\n",
    "\n",
    "    if 'u10_0' in name:\n",
    "        group_names_sorted.append('u-wind')\n",
    "\n",
    "    elif 'v10_0' in name:\n",
    "        group_names_sorted.append('v-wind')\n",
    "\n",
    "    elif 'day_of_year' in name:\n",
    "        group_names_sorted.append('temporal')\n",
    "\n",
    "    elif 'sp' in name:\n",
    "        group_names_sorted.append('sp')\n",
    "\n",
    "    elif 'blh' in name:\n",
    "        group_names_sorted.append('blh')"
   ]
  },
  {
   "cell_type": "code",
   "execution_count": 13,
   "metadata": {},
   "outputs": [
    {
     "data": {
      "text/plain": [
       "Text(0, 0.5, 'Feature Group')"
      ]
     },
     "execution_count": 13,
     "metadata": {},
     "output_type": "execute_result"
    },
    {
     "data": {
      "image/png": "[encoded data removed]",
      "text/plain": [
       "<Figure size 1200x800 with 1 Axes>"
      ]
     },
     "metadata": {},
     "output_type": "display_data"
    }
   ],
   "source": [
    "# Plotting the importances of the groups\n",
    "fig, ax = plt.subplots(figsize=(12, 8))\n",
    "sns.set_theme(style='ticks', font='Arial')\n",
    "\n",
    "ax.barh(group_names_sorted, [importance for _, importance in sorted_importances], color='#FF620E')\n",
    "\n",
    "ax.set_xlabel('Importance', fontsize=12, fontstyle='italic')\n",
    "ax.set_ylabel('Feature Group', fontsize=12, fontstyle='italic')\n",
    "# ax.set_title('Permutation Importances', fontsize=14)"
   ]
  }
 ],
 "metadata": {
  "kernelspec": {
   "display_name": "venv",
   "language": "python",
   "name": "python3"
  },
  "language_info": {
   "codemirror_mode": {
    "name": "ipython",
    "version": 3
   },
   "file_extension": ".py",
   "mimetype": "text/x-python",
   "name": "python",
   "nbconvert_exporter": "python",
   "pygments_lexer": "ipython3",
   "version": "3.11.9"
  }
 },
 "nbformat": 4,
 "nbformat_minor": 2
}
