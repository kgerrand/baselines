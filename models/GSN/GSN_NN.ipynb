{
 "cells": [
  {
   "cell_type": "markdown",
   "metadata": {},
   "source": [
    "# Neural Network Final Model - Gosan, South Korea"
   ]
  },
  {
   "cell_type": "code",
   "execution_count": 1,
   "metadata": {},
   "outputs": [],
   "source": [
    "import pandas as pd\n",
    "import numpy as np\n",
    "from joblib import dump\n",
    "from pathlib import Path\n",
    "import matplotlib.pyplot as plt\n",
    "import seaborn as sns\n",
    "\n",
    "from sklearn.neural_network import MLPClassifier\n",
    "from sklearn.metrics import precision_score, recall_score, f1_score, accuracy_score\n",
    "\n",
    "import sys\n",
    "sys.path.append('../../')\n",
    "import config as cfg\n",
    "import functions as f\n",
    "\n",
    "data_path = Path.home()/'OneDrive'/'Kirstin'/'Uni'/'Year4'/'MSciProject'/'data_files'/'saved_files'"
   ]
  },
  {
   "cell_type": "code",
   "execution_count": 2,
   "metadata": {},
   "outputs": [
    {
     "name": "stdout",
     "output_type": "stream",
     "text": [
      "Creating a neural network model for \u001b[1mGosan, South Korea\u001b[0;0m.\n"
     ]
    }
   ],
   "source": [
    "site = cfg.site\n",
    "site_name = cfg.site_dict[site]\n",
    "assert site == 'GSN', 'This script is only for Gosan, South Korea. The site can be changed in the config file.'\n",
    "\n",
    "compound = cfg.compound\n",
    "\n",
    "print(f\"Creating a neural network model for \\033[1m{site_name}\\033[0;0m.\")"
   ]
  },
  {
   "cell_type": "markdown",
   "metadata": {},
   "source": [
    "### Loading & Initialising Data"
   ]
  },
  {
   "cell_type": "code",
   "execution_count": 3,
   "metadata": {},
   "outputs": [
    {
     "data": {
      "text/html": [
       "<div>\n",
       "<style scoped>\n",
       "    .dataframe tbody tr th:only-of-type {\n",
       "        vertical-align: middle;\n",
       "    }\n",
       "\n",
       "    .dataframe tbody tr th {\n",
       "        vertical-align: top;\n",
       "    }\n",
       "\n",
       "    .dataframe thead th {\n",
       "        text-align: right;\n",
       "    }\n",
       "</style>\n",
       "<table border=\"1\" class=\"dataframe\">\n",
       "  <thead>\n",
       "    <tr style=\"text-align: right;\">\n",
       "      <th></th>\n",
       "      <th>time</th>\n",
       "      <th>flag</th>\n",
       "      <th>u10_0</th>\n",
       "      <th>u10_1</th>\n",
       "      <th>u10_2</th>\n",
       "      <th>u10_3</th>\n",
       "      <th>u10_4</th>\n",
       "      <th>u10_5</th>\n",
       "      <th>u10_6</th>\n",
       "      <th>u10_7</th>\n",
       "      <th>...</th>\n",
       "      <th>v500_7_past</th>\n",
       "      <th>v500_8_past</th>\n",
       "      <th>v500_9_past</th>\n",
       "      <th>v500_10_past</th>\n",
       "      <th>v500_11_past</th>\n",
       "      <th>v500_12_past</th>\n",
       "      <th>v500_13_past</th>\n",
       "      <th>v500_14_past</th>\n",
       "      <th>v500_15_past</th>\n",
       "      <th>v500_16_past</th>\n",
       "    </tr>\n",
       "  </thead>\n",
       "  <tbody>\n",
       "    <tr>\n",
       "      <th>11888</th>\n",
       "      <td>2019-01-02 15:00:00</td>\n",
       "      <td>1.0</td>\n",
       "      <td>1.017679</td>\n",
       "      <td>1.470771</td>\n",
       "      <td>5.201667</td>\n",
       "      <td>1.540360</td>\n",
       "      <td>2.780267</td>\n",
       "      <td>-3.159198</td>\n",
       "      <td>0.686495</td>\n",
       "      <td>-2.208315</td>\n",
       "      <td>...</td>\n",
       "      <td>-3.420433</td>\n",
       "      <td>-4.777692</td>\n",
       "      <td>-9.445107</td>\n",
       "      <td>-10.970448</td>\n",
       "      <td>-13.340398</td>\n",
       "      <td>1.516964</td>\n",
       "      <td>3.778712</td>\n",
       "      <td>12.761623</td>\n",
       "      <td>-0.944381</td>\n",
       "      <td>-3.067461</td>\n",
       "    </tr>\n",
       "    <tr>\n",
       "      <th>12566</th>\n",
       "      <td>2019-10-26 07:00:00</td>\n",
       "      <td>1.0</td>\n",
       "      <td>2.805908</td>\n",
       "      <td>3.068856</td>\n",
       "      <td>-5.311034</td>\n",
       "      <td>3.070421</td>\n",
       "      <td>2.078890</td>\n",
       "      <td>-0.041908</td>\n",
       "      <td>-0.614758</td>\n",
       "      <td>1.287699</td>\n",
       "      <td>...</td>\n",
       "      <td>-1.150153</td>\n",
       "      <td>-2.654279</td>\n",
       "      <td>-8.762793</td>\n",
       "      <td>20.468996</td>\n",
       "      <td>23.019876</td>\n",
       "      <td>4.574328</td>\n",
       "      <td>3.360893</td>\n",
       "      <td>-1.452845</td>\n",
       "      <td>-2.026226</td>\n",
       "      <td>-8.093403</td>\n",
       "    </tr>\n",
       "    <tr>\n",
       "      <th>8614</th>\n",
       "      <td>2015-08-17 15:00:00</td>\n",
       "      <td>0.0</td>\n",
       "      <td>-2.334642</td>\n",
       "      <td>-1.109458</td>\n",
       "      <td>-2.544401</td>\n",
       "      <td>-0.735706</td>\n",
       "      <td>1.936817</td>\n",
       "      <td>-4.069922</td>\n",
       "      <td>-0.731892</td>\n",
       "      <td>-3.724773</td>\n",
       "      <td>...</td>\n",
       "      <td>1.780614</td>\n",
       "      <td>2.616960</td>\n",
       "      <td>-4.665922</td>\n",
       "      <td>0.982923</td>\n",
       "      <td>10.697533</td>\n",
       "      <td>0.044671</td>\n",
       "      <td>6.775845</td>\n",
       "      <td>0.996980</td>\n",
       "      <td>-0.278623</td>\n",
       "      <td>-6.776113</td>\n",
       "    </tr>\n",
       "    <tr>\n",
       "      <th>1228</th>\n",
       "      <td>2008-11-26 01:00:00</td>\n",
       "      <td>0.0</td>\n",
       "      <td>-1.349751</td>\n",
       "      <td>-0.861771</td>\n",
       "      <td>0.780341</td>\n",
       "      <td>0.708968</td>\n",
       "      <td>-3.708767</td>\n",
       "      <td>-2.551993</td>\n",
       "      <td>-0.280211</td>\n",
       "      <td>0.476344</td>\n",
       "      <td>...</td>\n",
       "      <td>13.722526</td>\n",
       "      <td>6.124262</td>\n",
       "      <td>-1.893918</td>\n",
       "      <td>-14.933893</td>\n",
       "      <td>-1.440883</td>\n",
       "      <td>4.978430</td>\n",
       "      <td>9.691578</td>\n",
       "      <td>5.897745</td>\n",
       "      <td>-4.005429</td>\n",
       "      <td>3.068267</td>\n",
       "    </tr>\n",
       "    <tr>\n",
       "      <th>4381</th>\n",
       "      <td>2011-03-26 07:00:00</td>\n",
       "      <td>1.0</td>\n",
       "      <td>1.105406</td>\n",
       "      <td>4.175397</td>\n",
       "      <td>3.048966</td>\n",
       "      <td>2.412622</td>\n",
       "      <td>-0.147623</td>\n",
       "      <td>-4.385765</td>\n",
       "      <td>-4.159423</td>\n",
       "      <td>-5.001010</td>\n",
       "      <td>...</td>\n",
       "      <td>-4.948751</td>\n",
       "      <td>-6.137800</td>\n",
       "      <td>-11.500010</td>\n",
       "      <td>-5.974502</td>\n",
       "      <td>-2.414614</td>\n",
       "      <td>4.657988</td>\n",
       "      <td>3.647962</td>\n",
       "      <td>2.060950</td>\n",
       "      <td>-8.892086</td>\n",
       "      <td>-11.239944</td>\n",
       "    </tr>\n",
       "  </tbody>\n",
       "</table>\n",
       "<p>5 rows × 210 columns</p>\n",
       "</div>"
      ],
      "text/plain": [
       "                     time  flag     u10_0     u10_1     u10_2     u10_3  \\\n",
       "11888 2019-01-02 15:00:00   1.0  1.017679  1.470771  5.201667  1.540360   \n",
       "12566 2019-10-26 07:00:00   1.0  2.805908  3.068856 -5.311034  3.070421   \n",
       "8614  2015-08-17 15:00:00   0.0 -2.334642 -1.109458 -2.544401 -0.735706   \n",
       "1228  2008-11-26 01:00:00   0.0 -1.349751 -0.861771  0.780341  0.708968   \n",
       "4381  2011-03-26 07:00:00   1.0  1.105406  4.175397  3.048966  2.412622   \n",
       "\n",
       "          u10_4     u10_5     u10_6     u10_7  ...  v500_7_past  v500_8_past  \\\n",
       "11888  2.780267 -3.159198  0.686495 -2.208315  ...    -3.420433    -4.777692   \n",
       "12566  2.078890 -0.041908 -0.614758  1.287699  ...    -1.150153    -2.654279   \n",
       "8614   1.936817 -4.069922 -0.731892 -3.724773  ...     1.780614     2.616960   \n",
       "1228  -3.708767 -2.551993 -0.280211  0.476344  ...    13.722526     6.124262   \n",
       "4381  -0.147623 -4.385765 -4.159423 -5.001010  ...    -4.948751    -6.137800   \n",
       "\n",
       "       v500_9_past  v500_10_past  v500_11_past  v500_12_past  v500_13_past  \\\n",
       "11888    -9.445107    -10.970448    -13.340398      1.516964      3.778712   \n",
       "12566    -8.762793     20.468996     23.019876      4.574328      3.360893   \n",
       "8614     -4.665922      0.982923     10.697533      0.044671      6.775845   \n",
       "1228     -1.893918    -14.933893     -1.440883      4.978430      9.691578   \n",
       "4381    -11.500010     -5.974502     -2.414614      4.657988      3.647962   \n",
       "\n",
       "       v500_14_past  v500_15_past  v500_16_past  \n",
       "11888     12.761623     -0.944381     -3.067461  \n",
       "12566     -1.452845     -2.026226     -8.093403  \n",
       "8614       0.996980     -0.278623     -6.776113  \n",
       "1228       5.897745     -4.005429      3.068267  \n",
       "4381       2.060950     -8.892086    -11.239944  \n",
       "\n",
       "[5 rows x 210 columns]"
      ]
     },
     "execution_count": 3,
     "metadata": {},
     "output_type": "execute_result"
    }
   ],
   "source": [
    "data = pd.read_csv(data_path/f'for_model_{compound}_{site}.csv', parse_dates=['time'])\n",
    "data.sample(5)"
   ]
  },
  {
   "cell_type": "code",
   "execution_count": 4,
   "metadata": {},
   "outputs": [
    {
     "name": "stdout",
     "output_type": "stream",
     "text": [
      "Train range: 2013-01-01 13:00:00 -> 2013-12-30 11:00:00. Length: 1066\n",
      "Val range: 2014-01-02 09:00:00 -> 2014-12-31 23:00:00. Length: 915\n",
      "Test range: 2015-01-01 01:00:00 -> 2017-12-31 23:00:00. Length: 2808\n"
     ]
    }
   ],
   "source": [
    "train_data = data[(data['time'].dt.year >= 2013) & (data['time'].dt.year <= 2013)]\n",
    "val_data = data[(data['time'].dt.year >= 2014) & (data['time'].dt.year <= 2014)]\n",
    "test_data = data[(data['time'].dt.year >= 2015) & (data['time'].dt.year <= 2017)]\n",
    "\n",
    "print(f\"Train range: {train_data['time'].min()} -> {train_data['time'].max()}. Length: {len(train_data)}\")\n",
    "print(f\"Val range: {val_data['time'].min()} -> {val_data['time'].max()}. Length: {len(val_data)}\")\n",
    "print(f\"Test range: {test_data['time'].min()} -> {test_data['time'].max()}. Length: {len(test_data)}\")\n",
    "\n",
    "\n",
    "# Drop the \"time\" column as it won't be used in the model\n",
    "train_data = train_data.drop(columns=['time'])\n",
    "val_data = val_data.drop(columns=['time'])\n",
    "test_data = test_data.drop(columns=['time'])\n",
    "\n",
    "# Define the features (X) and the target (y)\n",
    "X_train = train_data.drop(columns=['flag'])\n",
    "y_train = train_data['flag']\n",
    "X_val = val_data.drop(columns=['flag'])\n",
    "y_val = val_data['flag']\n",
    "X_test = test_data.drop(columns=['flag'])\n",
    "y_test = test_data['flag']\n",
    "\n",
    "# Balanced Data - removing NaN values and associated data\n",
    "y_train = y_train.dropna()\n",
    "y_val = y_val.dropna()\n",
    "y_test = y_test.dropna()\n",
    "\n",
    "# aligning indices of features sets\n",
    "X_train = X_train.loc[y_train.index]\n",
    "X_val = X_val.loc[y_val.index]\n",
    "X_test = X_test.loc[y_test.index]"
   ]
  },
  {
   "cell_type": "markdown",
   "metadata": {},
   "source": [
    "### Model"
   ]
  },
  {
   "cell_type": "code",
   "execution_count": 5,
   "metadata": {},
   "outputs": [
    {
     "name": "stdout",
     "output_type": "stream",
     "text": [
      "Precision on Training Set = 0.885\n",
      "Precision on Validation Set = 0.866\n",
      "Recall on Training Set = 0.762\n",
      "Recall on Validation Set = 0.814\n",
      "F1 Score on Training Set = 0.819\n",
      "F1 Score on Validation Set = 0.839\n",
      "Misclassification Rate on Training Set = 0.268\n",
      "Misclassification Rate on Validation Set = 0.235\n"
     ]
    }
   ],
   "source": [
    "nn_model = MLPClassifier(random_state=42,\n",
    "                         max_iter=1000, \n",
    "                         hidden_layer_sizes=(100,), \n",
    "                         shuffle=False,\n",
    "                         activation='relu', \n",
    "                         solver='adam', \n",
    "                         alpha=0.0001, \n",
    "                         learning_rate='constant', \n",
    "                         batch_size=100, \n",
    "                         early_stopping=False,\n",
    "                         learning_rate_init=0.01,\n",
    "                         beta_2=0.9,)\n",
    "\n",
    "nn_model.fit(X_train, y_train)\n",
    "\n",
    "class_probabilities_val = nn_model.predict_proba(X_val)\n",
    "class_probabilities_train = nn_model.predict_proba(X_train)\n",
    "\n",
    "confidence_threshold = cfg.confidence_threshold\n",
    "\n",
    "y_pred_val = (class_probabilities_val[:,1] > confidence_threshold).astype(int)\n",
    "y_pred_train = (class_probabilities_train[:,1] > confidence_threshold).astype(int)\n",
    "\n",
    "precision_val = precision_score(y_val, y_pred_val)\n",
    "precision_train = precision_score(y_train, y_pred_train)\n",
    "recall_val = recall_score(y_val, y_pred_val)\n",
    "recall_train = recall_score(y_train, y_pred_train)\n",
    "f1_val = f1_score(y_val, y_pred_val)\n",
    "f1_train = f1_score(y_train, y_pred_train)\n",
    "misclassification_rate_val = 1 - accuracy_score(y_val, y_pred_val)\n",
    "misclassification_rate_train = 1 - accuracy_score(y_train, y_pred_train)\n",
    "\n",
    "print(f\"Precision on Training Set = {precision_train:.3f}\")\n",
    "print(f\"Precision on Validation Set = {precision_val:.3f}\")\n",
    "print(f\"Recall on Training Set = {recall_train:.3f}\")\n",
    "print(f\"Recall on Validation Set = {recall_val:.3f}\")\n",
    "print(f\"F1 Score on Training Set = {f1_train:.3f}\")\n",
    "print(f\"F1 Score on Validation Set = {f1_val:.3f}\")\n",
    "print(f\"Misclassification Rate on Training Set = {misclassification_rate_train:.3f}\")\n",
    "print(f\"Misclassification Rate on Validation Set = {misclassification_rate_val:.3f}\")"
   ]
  },
  {
   "cell_type": "code",
   "execution_count": 6,
   "metadata": {},
   "outputs": [
    {
     "name": "stdout",
     "output_type": "stream",
     "text": [
      "Precision on Testing Set = 0.886\n",
      "Recall on Testing Set = 0.819\n",
      "F1 Score on Testing Set = 0.851\n",
      "Misclassification Rate on Testing Set = 0.218\n"
     ]
    }
   ],
   "source": [
    "# evaluating model on test set\n",
    "class_probabilities_test = nn_model.predict_proba(X_test)\n",
    "\n",
    "y_pred_test = (class_probabilities_test[:,1] > confidence_threshold).astype(int)\n",
    "\n",
    "precision_test = precision_score(y_test, y_pred_test)\n",
    "recall_test = recall_score(y_test, y_pred_test)\n",
    "f1_test = f1_score(y_test, y_pred_test)\n",
    "misclassification_rate_test = 1 - accuracy_score(y_test, y_pred_test)\n",
    "\n",
    "print(f\"Precision on Testing Set = {precision_test:.3f}\")\n",
    "print(f\"Recall on Testing Set = {recall_test:.3f}\")\n",
    "print(f\"F1 Score on Testing Set = {f1_test:.3f}\")\n",
    "print(f\"Misclassification Rate on Testing Set = {misclassification_rate_test:.3f}\")"
   ]
  },
  {
   "cell_type": "code",
   "execution_count": 7,
   "metadata": {},
   "outputs": [
    {
     "data": {
      "text/plain": [
       "['../model_files/nn_model_GSN.joblib']"
      ]
     },
     "execution_count": 7,
     "metadata": {},
     "output_type": "execute_result"
    }
   ],
   "source": [
    "# saving the model\n",
    "dump(nn_model, data_path/f'nn_model_GSN.joblib')\n",
    "dump(nn_model, f'../model_files/nn_model_{site}.joblib')"
   ]
  },
  {
   "cell_type": "markdown",
   "metadata": {},
   "source": [
    "### Confusion Matrix"
   ]
  },
  {
   "cell_type": "code",
   "execution_count": 8,
   "metadata": {},
   "outputs": [
    {
     "data": {
      "text/plain": [
       "Text(0.5, 1.0, 'Gosan, South Korea')"
      ]
     },
     "execution_count": 8,
     "metadata": {},
     "output_type": "execute_result"
    },
    {
     "data": {
      "image/png": "[encoded data removed]",
      "text/plain": [
       "<Figure size 600x600 with 2 Axes>"
      ]
     },
     "metadata": {},
     "output_type": "display_data"
    }
   ],
   "source": [
    "# creating a confusion matrix\n",
    "conf_matrix = pd.crosstab(y_test, y_pred_test, rownames=['Actual'], colnames=['Predicted'])\n",
    "\n",
    "conf_matrix.columns = ['Non-Baseline', 'Baseline']\n",
    "conf_matrix.index = ['Non-Baseline', 'Baseline']\n",
    "\n",
    "fig, ax = plt.subplots(figsize=(6, 6))\n",
    "\n",
    "sns.heatmap(conf_matrix, annot=True, fmt='d', cmap='BuPu', cbar=True, ax=ax)\n",
    "\n",
    "ax.set_xlabel('Predicted')\n",
    "ax.set_ylabel('Actual')\n",
    "\n",
    "ax.set_title(f'{site_name}')"
   ]
  },
  {
   "cell_type": "markdown",
   "metadata": {},
   "source": [
    "### Assessing Feature Importance"
   ]
  },
  {
   "cell_type": "code",
   "execution_count": 9,
   "metadata": {},
   "outputs": [],
   "source": [
    "# grouping features by category i.e. x-wind, y-wind, temporal etc.\n",
    "u_features = [col for col in data.columns if 'u' in col]\n",
    "v_features = [col for col in data.columns if 'v' in col]\n",
    "temporal_features = ['day_of_year', 'time_of_day']\n",
    "sp = ['sp']\n",
    "blh = ['blh']\n",
    "\n",
    "groups = [u_features, v_features, temporal_features, sp, blh]"
   ]
  },
  {
   "cell_type": "code",
   "execution_count": 10,
   "metadata": {},
   "outputs": [],
   "source": [
    "original_score = accuracy_score(y_train, nn_model.predict(X_train))\n",
    "importances = {}\n",
    "\n",
    "for group in groups:\n",
    "    scores_diff = []\n",
    "    for _ in range(100):\n",
    "        X_train_permuted = f.permute_group(X_train, group)\n",
    "        \n",
    "        permuted_score = accuracy_score(y_train, nn_model.predict(X_train_permuted))\n",
    "        scores_diff.append(original_score - permuted_score)\n",
    "    \n",
    "    importances[str(group)] = np.mean(scores_diff)\n",
    "\n",
    "# Sort groups by importance\n",
    "sorted_importances = sorted(importances.items(), key=lambda x: x[1], reverse=False)"
   ]
  },
  {
   "cell_type": "code",
   "execution_count": 11,
   "metadata": {},
   "outputs": [],
   "source": [
    "# matching the group names to the sorted importances\n",
    "n = len(groups)\n",
    "group_names_sorted = []\n",
    "\n",
    "for i in range(n):\n",
    "    name = sorted_importances[i][0]\n",
    "\n",
    "    if 'u10_0' in name:\n",
    "        group_names_sorted.append('u-wind')\n",
    "\n",
    "    elif 'v10_0' in name:\n",
    "        group_names_sorted.append('v-wind')\n",
    "\n",
    "    elif 'day_of_year' in name:\n",
    "        group_names_sorted.append('temporal')\n",
    "\n",
    "    elif 'sp' in name:\n",
    "        group_names_sorted.append('sp')\n",
    "\n",
    "    elif 'blh' in name:\n",
    "        group_names_sorted.append('blh')"
   ]
  },
  {
   "cell_type": "code",
   "execution_count": 12,
   "metadata": {},
   "outputs": [
    {
     "data": {
      "text/plain": [
       "Text(0, 0.5, 'Feature Group')"
      ]
     },
     "execution_count": 12,
     "metadata": {},
     "output_type": "execute_result"
    },
    {
     "data": {
      "image/png": "[encoded data removed]",
      "text/plain": [
       "<Figure size 1200x800 with 1 Axes>"
      ]
     },
     "metadata": {},
     "output_type": "display_data"
    }
   ],
   "source": [
    "# Plotting the importances of the groups\n",
    "fig, ax = plt.subplots(figsize=(12, 8))\n",
    "sns.set_theme(style='ticks', font='Arial')\n",
    "\n",
    "ax.barh(group_names_sorted, [importance for _, importance in sorted_importances], color='#FF620E')\n",
    "\n",
    "ax.set_xlabel('Importance', fontsize=12, fontstyle='italic')\n",
    "ax.set_ylabel('Feature Group', fontsize=12, fontstyle='italic')\n",
    "# ax.set_title('Permutation Importances', fontsize=14)"
   ]
  }
 ],
 "metadata": {
  "kernelspec": {
   "display_name": "venv",
   "language": "python",
   "name": "python3"
  },
  "language_info": {
   "codemirror_mode": {
    "name": "ipython",
    "version": 3
   },
   "file_extension": ".py",
   "mimetype": "text/x-python",
   "name": "python",
   "nbconvert_exporter": "python",
   "pygments_lexer": "ipython3",
   "version": "3.11.9"
  }
 },
 "nbformat": 4,
 "nbformat_minor": 2
}
